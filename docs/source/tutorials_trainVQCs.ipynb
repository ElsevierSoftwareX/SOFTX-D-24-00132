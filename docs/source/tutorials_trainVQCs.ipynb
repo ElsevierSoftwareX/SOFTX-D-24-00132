{
 "cells": [
  {
   "cell_type": "markdown",
   "metadata": {},
   "source": [
    "# Train Variational Quantum Circuits by using evovaq and Qiskit"
   ]
  },
  {
   "cell_type": "markdown",
   "metadata": {
    "pycharm": {
     "name": "#%% md\n"
    }
   },
   "source": [
    "## 1) Training a Variational Quantum Classifier through a Memetic Algorithm"
   ]
  },
  {
   "cell_type": "markdown",
   "metadata": {
    "pycharm": {
     "name": "#%% md\n"
    }
   },
   "source": [
    "#### Importing modules"
   ]
  },
  {
   "cell_type": "code",
   "execution_count": 1,
   "metadata": {
    "pycharm": {
     "name": "#%%\n"
    }
   },
   "outputs": [],
   "source": [
    "from sklearn.datasets import load_iris\n",
    "from sklearn.model_selection import train_test_split\n",
    "from sklearn.metrics import log_loss\n",
    "from sklearn.preprocessing import MinMaxScaler\n",
    "from sklearn.metrics import accuracy_score\n",
    "from qiskit.circuit.library import ZZFeatureMap, RealAmplitudes\n",
    "from qiskit import Aer, execute\n",
    "from evovaq.problem import Problem\n",
    "from evovaq.GeneticAlgorithm import GA\n",
    "from evovaq.HillClimbing import HC\n",
    "from evovaq.MemeticAlgorithm import MA\n",
    "import evovaq.tools.operators as op\n",
    "import numpy as np"
   ]
  },
  {
   "cell_type": "markdown",
   "metadata": {
    "pycharm": {
     "name": "#%% md\n"
    }
   },
   "source": [
    "#### Uploading the classical data"
   ]
  },
  {
   "cell_type": "code",
   "execution_count": 2,
   "metadata": {
    "pycharm": {
     "name": "#%%\n"
    }
   },
   "outputs": [],
   "source": [
    "iris = load_iris()\n",
    "\n",
    "# For the sake of simplicity, we consider all the four features but only two classes\n",
    "iris_data = iris.data[:100, :4]\n",
    "iris_target = iris.target[:100]   # 0 or 1\n",
    "\n",
    "# Split into train and test subsets\n",
    "train_data, test_data, train_labels, test_labels = train_test_split(iris_data, iris_target, test_size=0.2,\n",
    "                                                                    random_state=42)\n",
    "\n",
    "# Pre-process data\n",
    "scaler = MinMaxScaler()\n",
    "scaler.fit(train_data)\n",
    "\n",
    "train_data = scaler.transform(train_data)\n",
    "test_data = scaler.transform(test_data)"
   ]
  },
  {
   "cell_type": "markdown",
   "metadata": {
    "pycharm": {
     "name": "#%% md\n"
    }
   },
   "source": [
    "#### Building the Variational Quantum Classifier"
   ]
  },
  {
   "cell_type": "code",
   "execution_count": 3,
   "metadata": {
    "pycharm": {
     "name": "#%%\n"
    }
   },
   "outputs": [],
   "source": [
    "# Encode classical data in a quantum system through a FeatureMap\n",
    "dim = train_data.shape[1]\n",
    "feature_map = ZZFeatureMap(dim, reps=1, entanglement='linear')\n",
    "\n",
    "# Define an Ansatz to be trained\n",
    "ansatz = RealAmplitudes(num_qubits=dim, reps=1, entanglement='circular')\n",
    "\n",
    "# Put together our quantum classifier\n",
    "circuit = feature_map.compose(ansatz)\n",
    "\n",
    "# Measure all the qubits to retrieve label information\n",
    "circuit.measure_all()"
   ]
  },
  {
   "cell_type": "code",
   "execution_count": 4,
   "metadata": {
    "pycharm": {
     "name": "#%%\n"
    }
   },
   "outputs": [],
   "source": [
    "def get_label_prediction(circuit, features, params):\n",
    "    # Bind the parameters to our quantum classifier\n",
    "    bound_circuit = circuit.bind_parameters(np.concatenate((features,params)))\n",
    "    backend = Aer.get_backend('qasm_simulator')\n",
    "    counts = execute(bound_circuit, backend).result().get_counts()\n",
    "    \n",
    "    # Read the label by considering the parity mapping of the final quantum state\n",
    "    parity_1 = 0\n",
    "    for state, count in counts.items():\n",
    "        if state.count('1') % 2 == 1:\n",
    "            parity_1 += count\n",
    "    return parity_1 / sum(counts.values())"
   ]
  },
  {
   "cell_type": "markdown",
   "metadata": {},
   "source": [
    "#### Defining the cost function to be minimized"
   ]
  },
  {
   "cell_type": "code",
   "execution_count": 5,
   "metadata": {
    "pycharm": {
     "name": "#%%\n"
    }
   },
   "outputs": [],
   "source": [
    "def cost_function(params):\n",
    "    predictions = [get_label_prediction(circuit, features, params) for features in train_data]\n",
    "    return log_loss(train_labels, predictions)"
   ]
  },
  {
   "cell_type": "markdown",
   "metadata": {
    "pycharm": {
     "name": "#%% md\n"
    }
   },
   "source": [
    "#### Setting up the problem"
   ]
  },
  {
   "cell_type": "code",
   "execution_count": 6,
   "metadata": {
    "pycharm": {
     "name": "#%%\n"
    }
   },
   "outputs": [],
   "source": [
    "problem = Problem(ansatz.num_parameters, ansatz.parameter_bounds, cost_function)"
   ]
  },
  {
   "cell_type": "markdown",
   "metadata": {
    "pycharm": {
     "name": "#%% md\n"
    }
   },
   "source": [
    "#### Defining a Memetic Algorithm"
   ]
  },
  {
   "cell_type": "code",
   "execution_count": 7,
   "metadata": {
    "pycharm": {
     "is_executing": true,
     "name": "#%%\n"
    }
   },
   "outputs": [],
   "source": [
    "# Define the global search method\n",
    "global_search = GA(selection=op.sel_tournament, crossover=op.cx_uniform, mutation=op.mut_gaussian, sigma=0.2, mut_indpb=0.15,\n",
    "               cxpb=0.9, tournsize=5)\n",
    "\n",
    "# Create a neighbour of a possibile solution\n",
    "def get_neighbour(problem, current_solution):\n",
    "    neighbour = current_solution.copy()\n",
    "    index = np.random.randint(0, len(current_solution))\n",
    "    _min, _max = problem.param_bounds[0]\n",
    "    neighbour[index] = np.random.uniform(_min, _max)\n",
    "    return neighbour\n",
    "\n",
    "# Define the local search method\n",
    "local_search = HC(generate_neighbour=get_neighbour)\n",
    "\n",
    "# Compose the global and local search method for a Memetic Algorithm \n",
    "optimizer = MA(global_search=global_search.evolve_population, sel_for_refinement=op.sel_best, local_search=local_search.stochastic_var, frequency=0.1, intensity=10)\n"
   ]
  },
  {
   "cell_type": "markdown",
   "metadata": {},
   "source": [
    "#### Training our VQC"
   ]
  },
  {
   "cell_type": "code",
   "execution_count": 8,
   "metadata": {},
   "outputs": [
    {
     "name": "stderr",
     "output_type": "stream",
     "text": [
      "Generations:   0%|                                      | 0/10 [00:00<?, ?gen/s]"
     ]
    },
    {
     "name": "stdout",
     "output_type": "stream",
     "text": [
      "********** Execution #1 **********\n",
      "gen    nfev    min       max      mean      std\n",
      "-----  ------  --------  -------  --------  --------\n",
      "0      10      0.574194  1.01087  0.777387  0.118212\n"
     ]
    },
    {
     "name": "stderr",
     "output_type": "stream",
     "text": [
      "Generations:  10%|███                           | 1/10 [00:07<01:09,  7.68s/gen]"
     ]
    },
    {
     "name": "stdout",
     "output_type": "stream",
     "text": [
      "\n",
      "1      20      0.549579  0.824715  0.724881  0.0867576\n"
     ]
    },
    {
     "name": "stderr",
     "output_type": "stream",
     "text": [
      "Generations:  20%|██████                        | 2/10 [00:14<00:58,  7.29s/gen]"
     ]
    },
    {
     "name": "stdout",
     "output_type": "stream",
     "text": [
      "\n",
      "2      18      0.519661  0.737288  0.624565  0.076709\n"
     ]
    },
    {
     "name": "stderr",
     "output_type": "stream",
     "text": [
      "Generations:  30%|█████████                     | 3/10 [00:22<00:52,  7.46s/gen]"
     ]
    },
    {
     "name": "stdout",
     "output_type": "stream",
     "text": [
      "\n",
      "3      20      0.512227  0.603781  0.554474  0.0314989\n"
     ]
    },
    {
     "name": "stderr",
     "output_type": "stream",
     "text": [
      "Generations:  40%|████████████                  | 4/10 [00:29<00:44,  7.39s/gen]"
     ]
    },
    {
     "name": "stdout",
     "output_type": "stream",
     "text": [
      "\n",
      "4      19      0.506354  0.553874  0.527675  0.0165829\n"
     ]
    },
    {
     "name": "stderr",
     "output_type": "stream",
     "text": [
      "Generations:  50%|███████████████               | 5/10 [00:36<00:36,  7.36s/gen]"
     ]
    },
    {
     "name": "stdout",
     "output_type": "stream",
     "text": [
      "\n",
      "5      19      0.487778  0.514964  0.507114  0.00765964\n"
     ]
    },
    {
     "name": "stderr",
     "output_type": "stream",
     "text": [
      "Generations:  60%|██████████████████            | 6/10 [00:44<00:29,  7.34s/gen]"
     ]
    },
    {
     "name": "stdout",
     "output_type": "stream",
     "text": [
      "\n",
      "6      19      0.487778  0.510338  0.499565  0.00927926\n"
     ]
    },
    {
     "name": "stderr",
     "output_type": "stream",
     "text": [
      "Generations:  70%|█████████████████████         | 7/10 [00:51<00:22,  7.45s/gen]"
     ]
    },
    {
     "name": "stdout",
     "output_type": "stream",
     "text": [
      "\n",
      "7      20      0.485524  0.500729  0.491166  0.00411343\n"
     ]
    },
    {
     "name": "stderr",
     "output_type": "stream",
     "text": [
      "Generations:  80%|████████████████████████      | 8/10 [00:58<00:14,  7.27s/gen]"
     ]
    },
    {
     "name": "stdout",
     "output_type": "stream",
     "text": [
      "\n",
      "8      18      0.485524  0.506184  0.493225  0.00625882\n"
     ]
    },
    {
     "name": "stderr",
     "output_type": "stream",
     "text": [
      "Generations:  90%|███████████████████████████   | 9/10 [01:06<00:07,  7.28s/gen]"
     ]
    },
    {
     "name": "stdout",
     "output_type": "stream",
     "text": [
      "\n",
      "9      19      0.485524  0.494877  0.490388  0.00262625\n"
     ]
    },
    {
     "name": "stderr",
     "output_type": "stream",
     "text": [
      "Generations: 100%|█████████████████████████████| 10/10 [01:13<00:00,  7.28s/gen]"
     ]
    },
    {
     "name": "stdout",
     "output_type": "stream",
     "text": [
      "\n",
      "10     19      0.4826  0.507815  0.491194  0.0067016\n"
     ]
    },
    {
     "data": {
      "text/plain": [
       "  fun: 0.48260042185591684\n",
       "  gen: 10\n",
       "  log: {'gen': [0, 1, 2, 3, 4, 5, 6, 7, 8, 9, 10], 'nfev': [10, 20, 18, 20, 19, 19, 19, 20, 18, 19, 19], 'min': [0.5741943431806411, 0.5495792409760082, 0.5196605664809661, 0.5122270310580073, 0.5063544128367315, 0.48777758944625205, 0.48777758944625205, 0.4855235783395476, 0.4855235783395476, 0.4855235783395476, 0.48260042185591684], 'max': [1.0108700876409014, 0.8247149305827991, 0.7372875746767409, 0.6037810463616139, 0.5538735167983232, 0.5149636544597807, 0.5103379175913295, 0.5007291786843474, 0.5061838813178279, 0.49487692318985294, 0.5078148595811571], 'mean': [0.7773865786237139, 0.7248805833709737, 0.624564804037709, 0.5544738494343432, 0.5276751585322951, 0.5071143411368311, 0.49956486395235433, 0.491165859240668, 0.4932252838704291, 0.49038829387334315, 0.49119421090738113], 'std': [0.11821196539990832, 0.08675763260140516, 0.07670898880389071, 0.03149892902008803, 0.016582930547904655, 0.0076596415234313035, 0.00927925771628771, 0.004113433790050419, 0.006258821291836501, 0.002626253612978286, 0.006701596001080847]}\n",
       " nfev: 201\n",
       "    x: array([ 0.95180689, -1.57259719, -1.70411141, -0.58746966, -2.9748859 ,\n",
       "        3.05920085,  1.45586664,  0.85704908])"
      ]
     },
     "execution_count": 8,
     "metadata": {},
     "output_type": "execute_result"
    }
   ],
   "source": [
    "res = optimizer.optimize(problem, 10, max_gen=10, verbose=True, seed=42)\n",
    "res"
   ]
  },
  {
   "cell_type": "markdown",
   "metadata": {},
   "source": [
    "#### Testing the optimal solution found"
   ]
  },
  {
   "cell_type": "code",
   "execution_count": 9,
   "metadata": {
    "pycharm": {
     "is_executing": true
    }
   },
   "outputs": [
    {
     "name": "stdout",
     "output_type": "stream",
     "text": [
      "Accuracy on the test subset: 0.9\n"
     ]
    }
   ],
   "source": [
    "test_predictions = [1 if get_label_prediction(circuit, features, res.x) > 0.5 else 0 for features in test_data]\n",
    "test_accuracy = accuracy_score(test_labels, test_predictions)\n",
    "print(\"Accuracy on the test subset:\", test_accuracy)"
   ]
  },
  {
   "cell_type": "markdown",
   "metadata": {},
   "source": [
    "## 2) QAOA trained by a Particle Swarm Optimization algorithm to solve MaxCut problem"
   ]
  },
  {
   "cell_type": "markdown",
   "metadata": {
    "pycharm": {
     "name": "#%% md\n"
    }
   },
   "source": [
    "#### Importing modules"
   ]
  },
  {
   "cell_type": "code",
   "execution_count": 10,
   "metadata": {
    "pycharm": {
     "is_executing": true,
     "name": "#%%\n"
    }
   },
   "outputs": [],
   "source": [
    "import networkx as nx\n",
    "import numpy as np\n",
    "from qiskit import execute, Aer\n",
    "from qiskit.visualization import plot_histogram\n",
    "from qiskit_optimization.applications import Maxcut\n",
    "from qiskit.circuit.library import QAOAAnsatz\n",
    "from evovaq.problem import Problem\n",
    "from evovaq.ParticleSwarmOptimization import PSO"
   ]
  },
  {
   "cell_type": "markdown",
   "metadata": {
    "pycharm": {
     "name": "#%% md\n"
    }
   },
   "source": [
    "#### Defining the graph"
   ]
  },
  {
   "cell_type": "code",
   "execution_count": 11,
   "metadata": {
    "pycharm": {
     "is_executing": true,
     "name": "#%%\n"
    }
   },
   "outputs": [
    {
     "data": {
      "image/png": "[encoded data removed]",
      "text/plain": [
       "<Figure size 640x480 with 1 Axes>"
      ]
     },
     "metadata": {},
     "output_type": "display_data"
    }
   ],
   "source": [
    "num_nodes = 5\n",
    "edges = [(0, 1), (0, 2), (0, 3), (0, 4)]\n",
    "\n",
    "G = nx.Graph()\n",
    "G.add_nodes_from(range(num_nodes))\n",
    "G.add_edges_from(edges)\n",
    "nx.draw(G, with_labels=True)"
   ]
  },
  {
   "cell_type": "markdown",
   "metadata": {},
   "source": [
    "#### Mapping the MaxCut problem in a QAOA circuit ansatz"
   ]
  },
  {
   "cell_type": "markdown",
   "metadata": {},
   "source": [
    "##### 1 - Trasforming the MaxCut instance in a quadratic problem"
   ]
  },
  {
   "cell_type": "code",
   "execution_count": 12,
   "metadata": {
    "pycharm": {
     "is_executing": true
    }
   },
   "outputs": [
    {
     "name": "stdout",
     "output_type": "stream",
     "text": [
      "Problem name: Max-cut\n",
      "\n",
      "Maximize\n",
      "  -2*x_0*x_1 - 2*x_0*x_2 - 2*x_0*x_3 - 2*x_0*x_4 + 4*x_0 + x_1 + x_2 + x_3 + x_4\n",
      "\n",
      "Subject to\n",
      "  No constraints\n",
      "\n",
      "  Binary variables (5)\n",
      "    x_0 x_1 x_2 x_3 x_4\n",
      "\n"
     ]
    }
   ],
   "source": [
    "maxcut_prob = Maxcut(G)\n",
    "maxcut_qp = maxcut_prob.to_quadratic_program()\n",
    "print(maxcut_qp.prettyprint())"
   ]
  },
  {
   "cell_type": "markdown",
   "metadata": {},
   "source": [
    "##### 2 - Defining the Hamiltonian by mapping the QUBO problem in an Ising Model"
   ]
  },
  {
   "cell_type": "code",
   "execution_count": 13,
   "metadata": {
    "pycharm": {
     "is_executing": true
    }
   },
   "outputs": [],
   "source": [
    "# MaxCut problem to Hamiltonian operator\n",
    "hamiltonian, offset = maxcut_qp.to_ising()"
   ]
  },
  {
   "cell_type": "markdown",
   "metadata": {},
   "source": [
    "##### 3 - Building the QAOA circuit based on the MaxCut instance"
   ]
  },
  {
   "cell_type": "code",
   "execution_count": 14,
   "metadata": {},
   "outputs": [
    {
     "data": {
      "image/png": "[encoded data removed]",
      "text/plain": [
       "<Figure size 2252.61x1120.39 with 1 Axes>"
      ]
     },
     "execution_count": 14,
     "metadata": {},
     "output_type": "execute_result"
    }
   ],
   "source": [
    "# QAOA ansatz circuit\n",
    "qaoa_circuit = QAOAAnsatz(hamiltonian, reps=2)\n",
    "qaoa_circuit.measure_all()\n",
    "qaoa_circuit.decompose(reps=3).draw('mpl')"
   ]
  },
  {
   "cell_type": "markdown",
   "metadata": {
    "pycharm": {
     "is_executing": true
    }
   },
   "source": [
    "#### Defining the cost function to be minimized"
   ]
  },
  {
   "cell_type": "code",
   "execution_count": 15,
   "metadata": {
    "pycharm": {
     "is_executing": true
    }
   },
   "outputs": [],
   "source": [
    "def cost_function(params):\n",
    "    backend = Aer.get_backend('qasm_simulator')\n",
    "    # Bind the parameters to the QAOA circuit\n",
    "    bound_qaoa_circuit = qaoa_circuit.bind_parameters(params)\n",
    "    counts = execute(bound_qaoa_circuit, backend, shots=512).result().get_counts()\n",
    "    cost_value = 0\n",
    "    # Compute the cost value by using the maxcut objective function\n",
    "    for bitstring, count in counts.items():\n",
    "        cost_value -= count * maxcut_qp.objective.evaluate([int(bit) for bit in bitstring[::-1]])\n",
    "    return cost_value / sum(counts.values())\n"
   ]
  },
  {
   "cell_type": "markdown",
   "metadata": {},
   "source": [
    "#### Setting up the problem"
   ]
  },
  {
   "cell_type": "code",
   "execution_count": 16,
   "metadata": {},
   "outputs": [],
   "source": [
    "qaoa_problem = Problem(qaoa_circuit.num_parameters, (0, 2 * np.pi), cost_function)"
   ]
  },
  {
   "cell_type": "markdown",
   "metadata": {},
   "source": [
    "#### Defining the Particle Swarm Optimization algorithm"
   ]
  },
  {
   "cell_type": "code",
   "execution_count": 17,
   "metadata": {},
   "outputs": [],
   "source": [
    "optimizer = PSO(vmin=-0.1, vmax=0.1)"
   ]
  },
  {
   "cell_type": "markdown",
   "metadata": {},
   "source": [
    "#### Training the QAOA circuit"
   ]
  },
  {
   "cell_type": "code",
   "execution_count": 18,
   "metadata": {},
   "outputs": [
    {
     "name": "stderr",
     "output_type": "stream",
     "text": [
      "\n",
      "Fitness Evaluations:   0%|                            | 0/100 [00:00<?, ?nfev/s]\u001b[A\n",
      "Fitness Evaluations:  20%|███▌              | 20/100 [00:00<00:00, 111.69nfev/s]\u001b[A"
     ]
    },
    {
     "name": "stdout",
     "output_type": "stream",
     "text": [
      "********** Execution #1 **********\n",
      "gen    nfev    min       max       mean     std\n",
      "-----  ------  --------  --------  -------  --------\n",
      "0      10      -3.59961  -1.21289  -2.0998  0.795261\n",
      "\n",
      "1      10      -3.69336  -1.16016  -2.06133  0.827515\n"
     ]
    },
    {
     "name": "stderr",
     "output_type": "stream",
     "text": [
      "\n",
      "Fitness Evaluations:  40%|███████▌           | 40/100 [00:00<00:00, 70.74nfev/s]\u001b[A"
     ]
    },
    {
     "name": "stdout",
     "output_type": "stream",
     "text": [
      "\n",
      "2      10      -3.52539  -1.10156  -2.01016  0.748684\n",
      "\n",
      "3      10      -3.37695  -1.16602  -1.99609  0.70882\n",
      "\n",
      "4      10      -3.39062  -0.621094  -1.93848  0.725515\n"
     ]
    },
    {
     "name": "stderr",
     "output_type": "stream",
     "text": [
      "\n",
      "Fitness Evaluations:  50%|█████████▌         | 50/100 [00:00<00:00, 66.07nfev/s]\u001b[A\n",
      "Fitness Evaluations:  60%|███████████▍       | 60/100 [00:00<00:00, 63.26nfev/s]\u001b[A\n",
      "Fitness Evaluations:  70%|█████████████▎     | 70/100 [00:01<00:00, 61.28nfev/s]\u001b[A"
     ]
    },
    {
     "name": "stdout",
     "output_type": "stream",
     "text": [
      "\n",
      "5      10      -3.56641  -0.810547  -2.06152  0.680007\n",
      "\n",
      "6      10      -3.74805  -1.32617  -2.1293  0.685094\n",
      "\n",
      "7      10      -3.72266  -1.22656  -2.19453  0.671043\n"
     ]
    },
    {
     "name": "stderr",
     "output_type": "stream",
     "text": [
      "\n",
      "Fitness Evaluations:  80%|███████████████▏   | 80/100 [00:01<00:00, 59.48nfev/s]\u001b[A\n",
      "Fitness Evaluations:  90%|█████████████████  | 90/100 [00:01<00:00, 58.61nfev/s]\u001b[A\n",
      "Fitness Evaluations: 100%|██████████████████| 100/100 [00:01<00:00, 62.75nfev/s]\u001b[A"
     ]
    },
    {
     "name": "stdout",
     "output_type": "stream",
     "text": [
      "\n",
      "8      10      -3.75391  -0.927734  -2.15273  0.712836\n",
      "\n",
      "9      10      -3.69922  -0.908203  -2.10605  0.733891\n"
     ]
    },
    {
     "name": "stderr",
     "output_type": "stream",
     "text": [
      "\n"
     ]
    },
    {
     "data": {
      "text/plain": [
       "  fun: -3.75390625\n",
       "  gen: 10\n",
       "  log: {'gen': [0, 1, 2, 3, 4, 5, 6, 7, 8, 9], 'nfev': [10, 10, 10, 10, 10, 10, 10, 10, 10, 10], 'min': [-3.599609375, -3.693359375, -3.525390625, -3.376953125, -3.390625, -3.56640625, -3.748046875, -3.72265625, -3.75390625, -3.69921875], 'max': [-1.212890625, -1.16015625, -1.1015625, -1.166015625, -0.62109375, -0.810546875, -1.326171875, -1.2265625, -0.927734375, -0.908203125], 'mean': [-2.0998046875, -2.061328125, -2.01015625, -1.99609375, -1.9384765625, -2.0615234375, -2.129296875, -2.19453125, -2.152734375, -2.1060546875], 'std': [0.7952608162924764, 0.827514976527285, 0.748683944616005, 0.7088197122833735, 0.7255149590956633, 0.6800069124207058, 0.6850942237816521, 0.6710433852244695, 0.712836470545829, 0.7338907406430878]}\n",
       " nfev: 100\n",
       "    x: array([2.78906277, 4.94085891, 1.31774472, 3.20100144])"
      ]
     },
     "execution_count": 18,
     "metadata": {},
     "output_type": "execute_result"
    }
   ],
   "source": [
    "res = optimizer.optimize(qaoa_problem, 10, max_nfev=100, seed=42)\n",
    "res"
   ]
  },
  {
   "cell_type": "markdown",
   "metadata": {},
   "source": [
    "#### Testing the optimal angles found"
   ]
  },
  {
   "cell_type": "code",
   "execution_count": 19,
   "metadata": {},
   "outputs": [
    {
     "data": {
      "image/png": "[encoded data removed]",
      "text/plain": [
       "<Figure size 700x500 with 1 Axes>"
      ]
     },
     "execution_count": 19,
     "metadata": {},
     "output_type": "execute_result"
    }
   ],
   "source": [
    "backend = Aer.get_backend('qasm_simulator')\n",
    "trained_qaoa_circuit = qaoa_circuit.bind_parameters(res.x)\n",
    "counts = execute(trained_qaoa_circuit, backend, shots=512).result().get_counts()\n",
    "plot_histogram(counts, title='Distribution of the final counts')"
   ]
  },
  {
   "cell_type": "code",
   "execution_count": 20,
   "metadata": {},
   "outputs": [
    {
     "name": "stdout",
     "output_type": "stream",
     "text": [
      "Optimal solution:  [0 1 1 1 1]\n"
     ]
    }
   ],
   "source": [
    "bitstring = maxcut_prob.sample_most_likely(counts)\n",
    "print('Optimal solution: ', bitstring)"
   ]
  },
  {
   "cell_type": "code",
   "execution_count": 21,
   "metadata": {},
   "outputs": [
    {
     "data": {
      "image/png": "[encoded data removed]",
      "text/plain": [
       "<Figure size 640x480 with 1 Axes>"
      ]
     },
     "metadata": {},
     "output_type": "display_data"
    }
   ],
   "source": [
    "maxcut_prob.draw(bitstring)"
   ]
  }
 ],
 "metadata": {
  "kernelspec": {
   "display_name": "Python 3 (ipykernel)",
   "language": "python",
   "name": "python3"
  },
  "language_info": {
   "codemirror_mode": {
    "name": "ipython",
    "version": 3
   },
   "file_extension": ".py",
   "mimetype": "text/x-python",
   "name": "python",
   "nbconvert_exporter": "python",
   "pygments_lexer": "ipython3",
   "version": "3.9.12"
  }
 },
 "nbformat": 4,
 "nbformat_minor": 4
}
