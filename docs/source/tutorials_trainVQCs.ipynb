{
 "cells": [
  {
   "cell_type": "markdown",
   "metadata": {},
   "source": [
    "# Train Variational Quantum Circuits by using evovaq and Qiskit"
   ]
  },
  {
   "cell_type": "markdown",
   "metadata": {
    "pycharm": {
     "name": "#%% md\n"
    }
   },
   "source": [
    "## 1) Training a Variational Quantum Classifier through an evolutionary algorithm"
   ]
  },
  {
   "cell_type": "markdown",
   "metadata": {
    "pycharm": {
     "name": "#%% md\n"
    }
   },
   "source": [
    "#### Importing modules"
   ]
  },
  {
   "cell_type": "code",
   "execution_count": 1,
   "metadata": {
    "pycharm": {
     "name": "#%%\n"
    }
   },
   "outputs": [],
   "source": [
    "from sklearn.datasets import load_iris\n",
    "from sklearn.model_selection import train_test_split\n",
    "from sklearn.metrics import log_loss\n",
    "from sklearn.preprocessing import StandardScaler\n",
    "from sklearn.metrics import accuracy_score\n",
    "from qiskit.circuit.library import ZZFeatureMap, RealAmplitudes\n",
    "from qiskit import Aer, execute\n",
    "from evovaq.problem import Problem\n",
    "from evovaq.GeneticAlgorithm import GA\n",
    "import evovaq.tools.operators as op\n",
    "import numpy as np"
   ]
  },
  {
   "cell_type": "markdown",
   "metadata": {
    "pycharm": {
     "name": "#%% md\n"
    }
   },
   "source": [
    "#### Uploading the classical data"
   ]
  },
  {
   "cell_type": "code",
   "execution_count": 2,
   "metadata": {
    "pycharm": {
     "name": "#%%\n"
    }
   },
   "outputs": [],
   "source": [
    "iris = load_iris()\n",
    "\n",
    "# for the sake of simplicity, we consider only two classes and two features\n",
    "iris_data = iris.data[:100, :2]\n",
    "iris_target = iris.target[:100]   # 0 o 1\n",
    "\n",
    "# split into train and test subsets\n",
    "train_data, test_data, train_labels, test_labels = train_test_split(iris_data, iris_target, test_size=0.2,\n",
    "                                                                    random_state=42)\n",
    "\n",
    "# the training labels are in {0, 1} but we'll use {-1, 1} as class labels\n",
    "train_labels = 2 * train_labels - 1\n",
    "test_labels = 2 * test_labels - 1\n",
    "\n",
    "# pre-processing\n",
    "scaler = StandardScaler()\n",
    "scaler.fit(train_data)\n",
    "\n",
    "train_data_std = scaler.transform(train_data)\n",
    "test_data_std = scaler.transform(test_data)"
   ]
  },
  {
   "cell_type": "markdown",
   "metadata": {
    "pycharm": {
     "name": "#%% md\n"
    }
   },
   "source": [
    "#### Building the Variational Quantum Classifier"
   ]
  },
  {
   "cell_type": "code",
   "execution_count": 3,
   "metadata": {
    "pycharm": {
     "name": "#%%\n"
    }
   },
   "outputs": [],
   "source": [
    "# encoding classical data in a quantum system through a FeatureMap\n",
    "dim = 2\n",
    "feature_map = ZZFeatureMap(dim, reps=1)  # let's keep it simple\n",
    "\n",
    "# defining an ansatz to train\n",
    "ansatz = RealAmplitudes(num_qubits=dim, entanglement='linear', reps=1)  # also simple here!\n",
    "\n",
    "# putting together our circuit\n",
    "circuit = feature_map.compose(ansatz)\n",
    "\n",
    "# measuring all the qubits to retrieve label information\n",
    "circuit.measure_all()"
   ]
  },
  {
   "cell_type": "code",
   "execution_count": 4,
   "metadata": {
    "pycharm": {
     "name": "#%%\n"
    }
   },
   "outputs": [],
   "source": [
    "def get_label_prediction(circuit, features, params):\n",
    "    bound_circuit = circuit.bind_parameters(np.concatenate((features,params)))\n",
    "    backend = Aer.get_backend('qasm_simulator')\n",
    "    counts = execute(bound_circuit, backend).result().get_counts()\n",
    "    parity_plus = 0\n",
    "    for state, count in counts.items():\n",
    "        if state == '00' or state == '11':\n",
    "            parity_plus += count\n",
    "    return parity_plus/sum(counts.values())"
   ]
  },
  {
   "cell_type": "markdown",
   "metadata": {},
   "source": [
    "#### Defining the cost function to be minimized"
   ]
  },
  {
   "cell_type": "code",
   "execution_count": 5,
   "metadata": {
    "pycharm": {
     "name": "#%%\n"
    }
   },
   "outputs": [],
   "source": [
    "def cost_function(params):\n",
    "    predictions = [get_label_prediction(circuit, features, params) for features in train_data_std]\n",
    "    return log_loss(train_labels, predictions)"
   ]
  },
  {
   "cell_type": "markdown",
   "metadata": {
    "pycharm": {
     "name": "#%% md\n"
    }
   },
   "source": [
    "#### Setting up the problem"
   ]
  },
  {
   "cell_type": "code",
   "execution_count": 6,
   "metadata": {
    "pycharm": {
     "name": "#%%\n"
    }
   },
   "outputs": [],
   "source": [
    "problem = Problem(ansatz.num_parameters, (0, np.pi), cost_function)"
   ]
  },
  {
   "cell_type": "markdown",
   "metadata": {
    "pycharm": {
     "name": "#%% md\n"
    }
   },
   "source": [
    "#### Selecting an evolutionary algirthm to train the VQC"
   ]
  },
  {
   "cell_type": "code",
   "execution_count": 7,
   "metadata": {
    "pycharm": {
     "is_executing": true,
     "name": "#%%\n"
    }
   },
   "outputs": [
    {
     "name": "stderr",
     "output_type": "stream",
     "text": [
      "Generations:   0%|                                      | 0/10 [00:00<?, ?gen/s]"
     ]
    },
    {
     "name": "stdout",
     "output_type": "stream",
     "text": [
      "********** Execution #1 **********\n",
      "gen    nfev    min     max       mean      std\n",
      "-----  ------  ------  --------  --------  ---------\n",
      "0      10      0.6808  0.879397  0.765461  0.0593827\n"
     ]
    },
    {
     "name": "stderr",
     "output_type": "stream",
     "text": [
      "Generations:  10%|███                           | 1/10 [00:02<00:18,  2.08s/gen]"
     ]
    },
    {
     "name": "stdout",
     "output_type": "stream",
     "text": [
      "\n",
      "1      7       0.676872  0.758481  0.713315  0.0340471\n"
     ]
    },
    {
     "name": "stderr",
     "output_type": "stream",
     "text": [
      "Generations:  20%|██████                        | 2/10 [00:04<00:16,  2.00s/gen]"
     ]
    },
    {
     "name": "stdout",
     "output_type": "stream",
     "text": [
      "\n",
      "2      7       0.676872  0.766437  0.689363  0.0258898\n"
     ]
    },
    {
     "name": "stderr",
     "output_type": "stream",
     "text": [
      "Generations:  30%|█████████                     | 3/10 [00:06<00:14,  2.05s/gen]"
     ]
    },
    {
     "name": "stdout",
     "output_type": "stream",
     "text": [
      "\n",
      "3      7       0.674559  0.702455  0.68352  0.00975851\n"
     ]
    },
    {
     "name": "stderr",
     "output_type": "stream",
     "text": [
      "Generations:  40%|████████████                  | 4/10 [00:08<00:12,  2.01s/gen]"
     ]
    },
    {
     "name": "stdout",
     "output_type": "stream",
     "text": [
      "\n",
      "4      7       0.674559  0.684412  0.677637  0.00286984\n"
     ]
    },
    {
     "name": "stderr",
     "output_type": "stream",
     "text": [
      "Generations:  50%|███████████████               | 5/10 [00:10<00:10,  2.04s/gen]"
     ]
    },
    {
     "name": "stdout",
     "output_type": "stream",
     "text": [
      "\n",
      "5      7       0.670847  0.675037  0.673525  0.00134072\n"
     ]
    },
    {
     "name": "stderr",
     "output_type": "stream",
     "text": [
      "Generations:  60%|██████████████████            | 6/10 [00:12<00:08,  2.03s/gen]"
     ]
    },
    {
     "name": "stdout",
     "output_type": "stream",
     "text": [
      "\n",
      "6      7       0.66893  0.693982  0.675587  0.006995\n"
     ]
    },
    {
     "name": "stderr",
     "output_type": "stream",
     "text": [
      "Generations:  70%|█████████████████████         | 7/10 [00:14<00:05,  1.96s/gen]"
     ]
    },
    {
     "name": "stdout",
     "output_type": "stream",
     "text": [
      "\n",
      "7      6       0.663053  0.677272  0.670709  0.00412192\n"
     ]
    },
    {
     "name": "stderr",
     "output_type": "stream",
     "text": [
      "Generations:  80%|████████████████████████      | 8/10 [00:16<00:04,  2.01s/gen]"
     ]
    },
    {
     "name": "stdout",
     "output_type": "stream",
     "text": [
      "\n",
      "8      8       0.663053  0.690409  0.674068  0.00978091\n"
     ]
    },
    {
     "name": "stderr",
     "output_type": "stream",
     "text": [
      "Generations:  90%|███████████████████████████   | 9/10 [00:17<00:01,  1.89s/gen]"
     ]
    },
    {
     "name": "stdout",
     "output_type": "stream",
     "text": [
      "\n",
      "9      6       0.663053  0.705428  0.673294  0.013776\n"
     ]
    },
    {
     "name": "stderr",
     "output_type": "stream",
     "text": [
      "Generations: 100%|█████████████████████████████| 10/10 [00:19<00:00,  1.88s/gen]"
     ]
    },
    {
     "name": "stdout",
     "output_type": "stream",
     "text": [
      "\n",
      "10     7       0.663053  0.676484  0.669449  0.00554707\n"
     ]
    },
    {
     "data": {
      "text/plain": [
       "  fun: 0.663053127338853\n",
       "  gen: 10\n",
       "  log: {'gen': [0, 1, 2, 3, 4, 5, 6, 7, 8, 9, 10], 'nfev': [10, 7, 7, 7, 7, 7, 7, 6, 8, 6, 7], 'min': [0.6807999188531141, 0.6768724444126989, 0.6768724444126989, 0.6745587706684608, 0.6745587706684608, 0.6708470019176993, 0.6689302472881989, 0.663053127338853, 0.663053127338853, 0.663053127338853, 0.663053127338853], 'max': [0.8793966838196766, 0.7584809350029351, 0.7664371747897792, 0.7024545375266389, 0.6844123634722431, 0.6750373592494312, 0.6939821483781708, 0.6772717721886362, 0.6904090957387958, 0.7054282049512107, 0.6764838382881703], 'mean': [0.7654611838818954, 0.7133153116551064, 0.6893628359050593, 0.683519674252582, 0.6776372636720364, 0.6735246860302981, 0.6755865066187884, 0.6707092390684137, 0.6740675462234635, 0.6732937305691704, 0.6694486654282978], 'std': [0.05938273235746133, 0.0340471156969182, 0.025889798091479413, 0.009758513046126351, 0.002869839450965264, 0.001340719324984954, 0.006994999007703682, 0.004121915552783661, 0.009780907650036285, 0.01377597133069368, 0.0055470678001961786]}\n",
       " nfev: 79\n",
       "    x: array([2.61519568, 0.43823289, 0.57121998, 0.57618226])"
      ]
     },
     "execution_count": 7,
     "metadata": {},
     "output_type": "execute_result"
    }
   ],
   "source": [
    "optimizer = GA(selection=op.sel_tournament, crossover=op.cx_two_point, mutation=op.mut_gaussian)\n",
    "\n",
    "res = optimizer.optimize(problem, 10, max_gen=10, seed=42)\n",
    "res"
   ]
  },
  {
   "cell_type": "markdown",
   "metadata": {},
   "source": [
    "#### Testing the optimal solution found"
   ]
  },
  {
   "cell_type": "code",
   "execution_count": 8,
   "metadata": {
    "pycharm": {
     "is_executing": true
    }
   },
   "outputs": [
    {
     "name": "stdout",
     "output_type": "stream",
     "text": [
      "Accuracy on the test subset: 0.5\n"
     ]
    }
   ],
   "source": [
    "test_predictions = [1 if get_label_prediction(circuit, features, res.x) > 0.5 else -1 for features in test_data_std]\n",
    "test_accuracy = accuracy_score(test_labels, test_predictions)\n",
    "print(\"Accuracy on the test subset:\", test_accuracy)"
   ]
  },
  {
   "cell_type": "markdown",
   "metadata": {},
   "source": [
    "## 2) QAOA trained by an evolutionary algorithm to solve MaxCut problem"
   ]
  },
  {
   "cell_type": "markdown",
   "metadata": {
    "pycharm": {
     "name": "#%% md\n"
    }
   },
   "source": [
    "#### Importing modules"
   ]
  },
  {
   "cell_type": "code",
   "execution_count": 9,
   "metadata": {
    "pycharm": {
     "is_executing": true,
     "name": "#%%\n"
    }
   },
   "outputs": [],
   "source": [
    "import networkx as nx\n",
    "import numpy as np\n",
    "from qiskit import execute, Aer\n",
    "from qiskit.visualization import plot_histogram\n",
    "from qiskit_optimization.applications import Maxcut\n",
    "from qiskit.circuit.library import QAOAAnsatz\n",
    "from evovaq.problem import Problem\n",
    "import evovaq.tools.operators as op\n",
    "from evovaq.tools.distances import euclidean_distance\n",
    "from evovaq.CHCAlgorithm import CHC"
   ]
  },
  {
   "cell_type": "markdown",
   "metadata": {
    "pycharm": {
     "name": "#%% md\n"
    }
   },
   "source": [
    "#### Defining the graph"
   ]
  },
  {
   "cell_type": "code",
   "execution_count": 10,
   "metadata": {
    "pycharm": {
     "is_executing": true,
     "name": "#%%\n"
    }
   },
   "outputs": [
    {
     "data": {
      "image/png": "[encoded data removed]",
      "text/plain": [
       "<Figure size 640x480 with 1 Axes>"
      ]
     },
     "metadata": {},
     "output_type": "display_data"
    }
   ],
   "source": [
    "num_nodes = 5\n",
    "edges = [(0, 1), (0, 2), (0, 3), (0, 4)]\n",
    "\n",
    "G = nx.Graph()\n",
    "G.add_nodes_from(range(num_nodes))\n",
    "G.add_edges_from(edges)\n",
    "nx.draw(G, with_labels=True)"
   ]
  },
  {
   "cell_type": "markdown",
   "metadata": {},
   "source": [
    "#### Mapping the MaxCut problem in a QAOA circuit ansatz"
   ]
  },
  {
   "cell_type": "markdown",
   "metadata": {},
   "source": [
    "##### 1 - Trasforming the MaxCut instance in a quadratic problem"
   ]
  },
  {
   "cell_type": "code",
   "execution_count": 11,
   "metadata": {
    "pycharm": {
     "is_executing": true
    }
   },
   "outputs": [
    {
     "name": "stdout",
     "output_type": "stream",
     "text": [
      "Problem name: Max-cut\n",
      "\n",
      "Maximize\n",
      "  -2*x_0*x_1 - 2*x_0*x_2 - 2*x_0*x_3 - 2*x_0*x_4 + 4*x_0 + x_1 + x_2 + x_3 + x_4\n",
      "\n",
      "Subject to\n",
      "  No constraints\n",
      "\n",
      "  Binary variables (5)\n",
      "    x_0 x_1 x_2 x_3 x_4\n",
      "\n"
     ]
    }
   ],
   "source": [
    "maxcut_prob = Maxcut(G)\n",
    "maxcut_qp = maxcut_prob.to_quadratic_program()\n",
    "print(maxcut_qp.prettyprint())"
   ]
  },
  {
   "cell_type": "markdown",
   "metadata": {},
   "source": [
    "##### 2 - Defining the Hamiltonian by mapping the QUBO problem in an Ising Model"
   ]
  },
  {
   "cell_type": "code",
   "execution_count": 12,
   "metadata": {
    "pycharm": {
     "is_executing": true
    }
   },
   "outputs": [],
   "source": [
    "# Maxcut problem to Hamiltonian operator\n",
    "hamiltonian, offset = maxcut_qp.to_ising()"
   ]
  },
  {
   "cell_type": "markdown",
   "metadata": {},
   "source": [
    "##### 3 - Building the QAOA circuit based on the MaxCut instance"
   ]
  },
  {
   "cell_type": "code",
   "execution_count": 13,
   "metadata": {},
   "outputs": [
    {
     "data": {
      "image/png": "[encoded data removed]",
      "text/plain": [
       "<Figure size 2252.61x1120.39 with 1 Axes>"
      ]
     },
     "execution_count": 13,
     "metadata": {},
     "output_type": "execute_result"
    }
   ],
   "source": [
    "# QAOA ansatz circuit\n",
    "qaoa_circuit = QAOAAnsatz(hamiltonian, reps=2)\n",
    "qaoa_circuit.measure_all()\n",
    "qaoa_circuit.decompose(reps=3).draw('mpl')"
   ]
  },
  {
   "cell_type": "markdown",
   "metadata": {
    "pycharm": {
     "is_executing": true
    }
   },
   "source": [
    "#### Defining the cost function to be minimized"
   ]
  },
  {
   "cell_type": "code",
   "execution_count": 14,
   "metadata": {
    "pycharm": {
     "is_executing": true
    }
   },
   "outputs": [],
   "source": [
    "def cost_function(params):\n",
    "    backend = Aer.get_backend('qasm_simulator')\n",
    "    # Execute the QAOA circuit to get the counts\n",
    "    bound_qaoa_circuit = qaoa_circuit.bind_parameters(params)\n",
    "    counts = execute(bound_qaoa_circuit, backend, shots=512).result().get_counts()\n",
    "    cost_value = 0\n",
    "    # Compute the cost value by using the maxcut objective function\n",
    "    for bitstring, count in counts.items():\n",
    "        cost_value -= count * maxcut_qp.objective.evaluate([int(bit) for bit in bitstring[::-1]])\n",
    "    return cost_value / sum(counts.values())\n"
   ]
  },
  {
   "cell_type": "markdown",
   "metadata": {},
   "source": [
    "#### Setting up the problem"
   ]
  },
  {
   "cell_type": "code",
   "execution_count": 15,
   "metadata": {},
   "outputs": [],
   "source": [
    "qaoa_problem = Problem(qaoa_circuit.num_parameters, (0, np.pi), cost_function)"
   ]
  },
  {
   "cell_type": "markdown",
   "metadata": {},
   "source": [
    "#### Selecting an evolutionary algirthm to train the QAOA circuit"
   ]
  },
  {
   "cell_type": "code",
   "execution_count": 16,
   "metadata": {},
   "outputs": [
    {
     "name": "stderr",
     "output_type": "stream",
     "text": [
      "\n",
      "Generations:   0%|                                      | 0/10 [00:00<?, ?gen/s]\u001b[A\n",
      "Generations:  10%|███                           | 1/10 [00:00<00:01,  6.79gen/s]\u001b[A\n",
      "Generations:  40%|████████████                  | 4/10 [00:00<00:00, 14.62gen/s]\u001b[A\n"
     ]
    },
    {
     "name": "stdout",
     "output_type": "stream",
     "text": [
      "********** Execution #1 **********\n",
      "gen    nfev    min       max        mean      std\n",
      "-----  ------  --------  ---------  --------  --------\n",
      "0      10      -3.17188  -0.667969  -1.83594  0.680941\n",
      "\n",
      "1      8       -3.17188  -1.90234  -2.28223  0.362334\n",
      "\n",
      "2      8       -3.17188  -1.90234  -2.28223  0.362334\n",
      "\n",
      "3      4       -3.17188  -2.0332  -2.40371  0.38506\n",
      "\n",
      "4      4       -3.17188  -2.125  -2.55781  0.319099\n",
      "\n",
      "5      2       -3.17188  -2.3418  -2.63086  0.254757\n",
      "\n",
      "6      2       -3.17188  -2.43164  -2.68145  0.242253\n",
      "\n",
      "7      2       -3.17188  -2.43164  -2.68145  0.242253\n",
      "\n",
      "8      2       -3.17188  -2.43359  -2.71094  0.227552\n"
     ]
    },
    {
     "name": "stderr",
     "output_type": "stream",
     "text": [
      "Generations: 100%|█████████████████████████████| 10/10 [00:00<00:00, 17.11gen/s]\u001b[A"
     ]
    },
    {
     "name": "stdout",
     "output_type": "stream",
     "text": [
      "\n",
      "9      4       -3.23242  -2.56836  -2.83262  0.226028\n",
      "\n",
      "10     6       -3.23242  -2.62109  -2.9082  0.191944\n"
     ]
    },
    {
     "name": "stderr",
     "output_type": "stream",
     "text": [
      "\n"
     ]
    },
    {
     "data": {
      "text/plain": [
       "  fun: -3.232421875\n",
       "  gen: 10\n",
       "  log: {'gen': [0, 1, 2, 3, 4, 5, 6, 7, 8, 9, 10], 'nfev': [10, 8, 8, 4, 4, 2, 2, 2, 2, 4, 6], 'min': [-3.171875, -3.171875, -3.171875, -3.171875, -3.171875, -3.171875, -3.171875, -3.171875, -3.171875, -3.232421875, -3.232421875], 'max': [-0.66796875, -1.90234375, -1.90234375, -2.033203125, -2.125, -2.341796875, -2.431640625, -2.431640625, -2.43359375, -2.568359375, -2.62109375], 'mean': [-1.8359375, -2.2822265625, -2.2822265625, -2.4037109375, -2.5578125, -2.630859375, -2.6814453125, -2.6814453125, -2.7109375, -2.8326171875, -2.908203125], 'std': [0.6809412825445653, 0.36233416743271696, 0.36233416743271696, 0.3850600178494145, 0.3190992648382514, 0.2547566887423849, 0.24225277913077084, 0.24225277913077084, 0.22755205502069328, 0.2260282122801975, 0.19194360159017088]}\n",
       " nfev: 42\n",
       "    x: array([0.95594067, 0.40862134, 2.07437329, 1.4012871 ])"
      ]
     },
     "execution_count": 16,
     "metadata": {},
     "output_type": "execute_result"
    }
   ],
   "source": [
    "optimizer = CHC(crossover=op.cx_blx_alpha, distance=euclidean_distance)\n",
    "\n",
    "res = optimizer.optimize(qaoa_problem, 10, max_gen=10, seed=42)\n",
    "res"
   ]
  },
  {
   "cell_type": "markdown",
   "metadata": {},
   "source": [
    "#### Testing the optimal angles found"
   ]
  },
  {
   "cell_type": "code",
   "execution_count": 17,
   "metadata": {},
   "outputs": [
    {
     "data": {
      "image/png": "[encoded data removed]",
      "text/plain": [
       "<Figure size 700x500 with 1 Axes>"
      ]
     },
     "execution_count": 17,
     "metadata": {},
     "output_type": "execute_result"
    }
   ],
   "source": [
    "backend = Aer.get_backend('qasm_simulator')\n",
    "trained_qaoa_circuit = qaoa_circuit.bind_parameters(res.x)\n",
    "counts = execute(trained_qaoa_circuit, backend, shots=512).result().get_counts()\n",
    "plot_histogram(counts, title='Distribution of the final counts')"
   ]
  },
  {
   "cell_type": "code",
   "execution_count": 18,
   "metadata": {},
   "outputs": [
    {
     "name": "stdout",
     "output_type": "stream",
     "text": [
      "Optimal solution:  [1 0 0 0 0]\n"
     ]
    }
   ],
   "source": [
    "bitstring = maxcut_prob.sample_most_likely(counts)\n",
    "print('Optimal solution: ', bitstring)"
   ]
  },
  {
   "cell_type": "code",
   "execution_count": 19,
   "metadata": {},
   "outputs": [
    {
     "data": {
      "image/png": "[encoded data removed]",
      "text/plain": [
       "<Figure size 640x480 with 1 Axes>"
      ]
     },
     "metadata": {},
     "output_type": "display_data"
    }
   ],
   "source": [
    "maxcut_prob.draw(bitstring)"
   ]
  },
  {
   "cell_type": "markdown",
   "metadata": {},
   "source": [
    "## 3) VQE trained by an evolutionary algorithm to solve Traveling Salesman Problem "
   ]
  },
  {
   "cell_type": "markdown",
   "metadata": {},
   "source": [
    "#### Importing modules"
   ]
  },
  {
   "cell_type": "code",
   "execution_count": 41,
   "metadata": {},
   "outputs": [],
   "source": [
    "import networkx as nx\n",
    "import numpy as np\n",
    "import matplotlib.pyplot as plt\n",
    "from qiskit_optimization.applications import Tsp\n",
    "from qiskit_optimization.converters import QuadraticProgramToQubo\n",
    "from qiskit.circuit.library import TwoLocal\n",
    "from qiskit_aer.primitives import Estimator\n",
    "from qiskit.primitives import Sampler\n",
    "from qiskit_algorithms import NumPyMinimumEigensolver\n",
    "from evovaq.problem import Problem\n",
    "from evovaq.BigBangBigCrunch import BBBC"
   ]
  },
  {
   "cell_type": "markdown",
   "metadata": {},
   "source": [
    "#### Defining the TSP instance"
   ]
  },
  {
   "cell_type": "code",
   "execution_count": 42,
   "metadata": {},
   "outputs": [
    {
     "name": "stdout",
     "output_type": "stream",
     "text": [
      "Distances between cities \n",
      " [[ 0. 48. 91.]\n",
      " [48.  0. 63.]\n",
      " [91. 63.  0.]]\n"
     ]
    }
   ],
   "source": [
    "num_cities = 3\n",
    "tsp = Tsp.create_random_instance(num_cities, seed=123)\n",
    "adj_matrix = nx.to_numpy_array(tsp.graph)\n",
    "print(\"Distances between cities \\n\", adj_matrix)"
   ]
  },
  {
   "cell_type": "code",
   "execution_count": 43,
   "metadata": {},
   "outputs": [
    {
     "data": {
      "text/plain": [
       "{(0, 1): Text(45.135586801037746, 11.90964147504462, '48.0'),\n",
       " (0, 2): Text(42.91288821665869, 43.295776272899815, '91.0'),\n",
       " (1, 2): Text(19.81328869288209, 49.823315867722165, '63.0')}"
      ]
     },
     "execution_count": 43,
     "metadata": {},
     "output_type": "execute_result"
    },
    {
     "data": {
      "image/png": "[encoded data removed]",
      "text/plain": [
       "<Figure size 640x480 with 1 Axes>"
      ]
     },
     "metadata": {},
     "output_type": "display_data"
    }
   ],
   "source": [
    "pos = [tsp.graph.nodes[node][\"pos\"] for node in tsp.graph.nodes]\n",
    "nx.draw_networkx(tsp.graph, pos=pos)\n",
    "edge_labels = nx.get_edge_attributes(tsp.graph, \"weight\")\n",
    "nx.draw_networkx_edge_labels(tsp.graph, pos=pos, edge_labels=edge_labels)"
   ]
  },
  {
   "cell_type": "markdown",
   "metadata": {},
   "source": [
    "#### Mapping the TSP instance in an hamiltonian suitable for VQE"
   ]
  },
  {
   "cell_type": "markdown",
   "metadata": {},
   "source": [
    "##### 1 - Trasforming the TSP instance in a quadratic problem"
   ]
  },
  {
   "cell_type": "code",
   "execution_count": 44,
   "metadata": {},
   "outputs": [
    {
     "name": "stdout",
     "output_type": "stream",
     "text": [
      "Problem name: TSP\n",
      "\n",
      "Minimize\n",
      "  48*x_0_0*x_1_1 + 48*x_0_0*x_1_2 + 91*x_0_0*x_2_1 + 91*x_0_0*x_2_2\n",
      "  + 48*x_0_1*x_1_0 + 48*x_0_1*x_1_2 + 91*x_0_1*x_2_0 + 91*x_0_1*x_2_2\n",
      "  + 48*x_0_2*x_1_0 + 48*x_0_2*x_1_1 + 91*x_0_2*x_2_0 + 91*x_0_2*x_2_1\n",
      "  + 63*x_1_0*x_2_1 + 63*x_1_0*x_2_2 + 63*x_1_1*x_2_0 + 63*x_1_1*x_2_2\n",
      "  + 63*x_1_2*x_2_0 + 63*x_1_2*x_2_1\n",
      "\n",
      "Subject to\n",
      "  Linear constraints (6)\n",
      "    x_0_0 + x_0_1 + x_0_2 == 1  'c0'\n",
      "    x_1_0 + x_1_1 + x_1_2 == 1  'c1'\n",
      "    x_2_0 + x_2_1 + x_2_2 == 1  'c2'\n",
      "    x_0_0 + x_1_0 + x_2_0 == 1  'c3'\n",
      "    x_0_1 + x_1_1 + x_2_1 == 1  'c4'\n",
      "    x_0_2 + x_1_2 + x_2_2 == 1  'c5'\n",
      "\n",
      "  Binary variables (9)\n",
      "    x_0_0 x_0_1 x_0_2 x_1_0 x_1_1 x_1_2 x_2_0 x_2_1 x_2_2\n",
      "\n"
     ]
    }
   ],
   "source": [
    "tsp_qp = tsp.to_quadratic_program()\n",
    "print(tsp_qp.prettyprint())"
   ]
  },
  {
   "cell_type": "markdown",
   "metadata": {},
   "source": [
    "##### 2 - Defining the Hamiltonian by mapping the QUBO problem in an Ising Model"
   ]
  },
  {
   "cell_type": "code",
   "execution_count": 45,
   "metadata": {},
   "outputs": [
    {
     "name": "stdout",
     "output_type": "stream",
     "text": [
      "Offset: 7581.0\n",
      "Ising Hamiltonian:\n",
      "-1282.5 * IIIIIIIIZ\n",
      "- 1282.5 * IIIIIIIZI\n",
      "- 1282.5 * IIIIIIZII\n",
      "- 1268.5 * IIIIIZIII\n",
      "- 1268.5 * IIIIZIIII\n",
      "- 1268.5 * IIIZIIIII\n",
      "- 1290.0 * IIZIIIIII\n",
      "- 1290.0 * IZIIIIIII\n",
      "- 1290.0 * ZIIIIIIII\n",
      "+ 606.5 * IIIIIIIZZ\n",
      "+ 606.5 * IIIIIIZIZ\n",
      "+ 606.5 * IIIIIZIIZ\n",
      "+ 12.0 * IIIIZIIIZ\n",
      "+ 12.0 * IIIZIIIIZ\n",
      "+ 606.5 * IIZIIIIIZ\n",
      "+ 22.75 * IZIIIIIIZ\n",
      "+ 22.75 * ZIIIIIIIZ\n",
      "+ 606.5 * IIIIIIZZI\n",
      "+ 12.0 * IIIIIZIZI\n",
      "+ 606.5 * IIIIZIIZI\n",
      "+ 12.0 * IIIZIIIZI\n",
      "+ 22.75 * IIZIIIIZI\n",
      "+ 606.5 * IZIIIIIZI\n",
      "+ 22.75 * ZIIIIIIZI\n",
      "+ 12.0 * IIIIIZZII\n",
      "+ 12.0 * IIIIZIZII\n",
      "+ 606.5 * IIIZIIZII\n",
      "+ 22.75 * IIZIIIZII\n",
      "+ 22.75 * IZIIIIZII\n",
      "+ 606.5 * ZIIIIIZII\n",
      "+ 606.5 * IIIIZZIII\n",
      "+ 606.5 * IIIZIZIII\n",
      "+ 606.5 * IIZIIZIII\n",
      "+ 15.75 * IZIIIZIII\n",
      "+ 15.75 * ZIIIIZIII\n",
      "+ 606.5 * IIIZZIIII\n",
      "+ 15.75 * IIZIZIIII\n",
      "+ 606.5 * IZIIZIIII\n",
      "+ 15.75 * ZIIIZIIII\n",
      "+ 15.75 * IIZZIIIII\n",
      "+ 15.75 * IZIZIIIII\n",
      "+ 606.5 * ZIIZIIIII\n",
      "+ 606.5 * IZZIIIIII\n",
      "+ 606.5 * ZIZIIIIII\n",
      "+ 606.5 * ZZIIIIIII\n"
     ]
    }
   ],
   "source": [
    "qp2qubo = QuadraticProgramToQubo()\n",
    "tsp_qubo = qp2qubo.convert(tsp_qp)\n",
    "hamiltonian, offset = tsp_qubo.to_ising()\n",
    "print(\"Offset:\", offset)\n",
    "print(\"Ising Hamiltonian:\")\n",
    "print(str(hamiltonian))"
   ]
  },
  {
   "cell_type": "markdown",
   "metadata": {},
   "source": [
    "##### 3 - Choosing the ansatz to sample the ground state (lower energy state) of the Hamiltonian"
   ]
  },
  {
   "cell_type": "code",
   "execution_count": 46,
   "metadata": {},
   "outputs": [
    {
     "name": "stdout",
     "output_type": "stream",
     "text": [
      "Number of parameters to be optimized and qubits involved:  54 , 9\n"
     ]
    }
   ],
   "source": [
    "ansatz = TwoLocal(hamiltonian.num_qubits, \"ry\", \"cz\", reps=5, entanglement=\"linear\")\n",
    "print('Number of parameters to be optimized and qubits involved: ', ansatz.num_parameters, ',', ansatz.num_qubits)"
   ]
  },
  {
   "cell_type": "markdown",
   "metadata": {},
   "source": [
    "#### Defining the cost function to be minimized"
   ]
  },
  {
   "cell_type": "code",
   "execution_count": 47,
   "metadata": {},
   "outputs": [],
   "source": [
    "def cost_function(params):\n",
    "    estimator = Estimator(run_options={\"shots\": 1024})\n",
    "    energy = estimator.run(ansatz, hamiltonian, parameter_values=params).result().values[0]\n",
    "    return energy"
   ]
  },
  {
   "cell_type": "markdown",
   "metadata": {},
   "source": [
    "#### Setting up the problem"
   ]
  },
  {
   "cell_type": "code",
   "execution_count": 48,
   "metadata": {},
   "outputs": [],
   "source": [
    "problem = Problem(ansatz.num_parameters, (0, 2*np.pi), cost_function)"
   ]
  },
  {
   "cell_type": "markdown",
   "metadata": {},
   "source": [
    "#### Selecting an evolutionary algirthm to train the VQE circuit"
   ]
  },
  {
   "cell_type": "code",
   "execution_count": 55,
   "metadata": {},
   "outputs": [
    {
     "name": "stderr",
     "output_type": "stream",
     "text": [
      "\n",
      "Fitness Evaluations:   0%|                            | 0/300 [00:00<?, ?nfev/s]\u001b[A"
     ]
    },
    {
     "name": "stdout",
     "output_type": "stream",
     "text": [
      "********** Execution #1 **********\n",
      "gen    nfev    min       max      mean      std\n",
      "-----  ------  --------  -------  --------  -------\n",
      "0      10      -2608.73  4151.73  -285.151  1927.26\n"
     ]
    },
    {
     "name": "stderr",
     "output_type": "stream",
     "text": [
      "\n",
      "Fitness Evaluations:   7%|█▎                 | 20/300 [00:00<00:03, 81.77nfev/s]\u001b[A"
     ]
    },
    {
     "name": "stdout",
     "output_type": "stream",
     "text": [
      "\n",
      "1      10      -2608.73  -303  -533.573  691.718\n"
     ]
    },
    {
     "name": "stderr",
     "output_type": "stream",
     "text": [
      "\n",
      "Fitness Evaluations:  10%|█▉                 | 30/300 [00:00<00:04, 56.99nfev/s]\u001b[A"
     ]
    },
    {
     "name": "stdout",
     "output_type": "stream",
     "text": [
      "\n",
      "2      10      -2608.73  -303  -533.573  691.718\n"
     ]
    },
    {
     "name": "stderr",
     "output_type": "stream",
     "text": [
      "\n",
      "Fitness Evaluations:  13%|██▌                | 40/300 [00:00<00:05, 49.46nfev/s]\u001b[A"
     ]
    },
    {
     "name": "stdout",
     "output_type": "stream",
     "text": [
      "\n",
      "3      10      -2608.73  -303  -539.726  689.91\n"
     ]
    },
    {
     "name": "stderr",
     "output_type": "stream",
     "text": [
      "\n",
      "Fitness Evaluations:  17%|███▏               | 50/300 [00:00<00:05, 45.18nfev/s]\u001b[A"
     ]
    },
    {
     "name": "stdout",
     "output_type": "stream",
     "text": [
      "\n",
      "4      10      -2608.73  310.285  -603.742  807.292\n"
     ]
    },
    {
     "name": "stderr",
     "output_type": "stream",
     "text": [
      "\n",
      "Fitness Evaluations:  20%|███▊               | 60/300 [00:01<00:05, 42.98nfev/s]\u001b[A"
     ]
    },
    {
     "name": "stdout",
     "output_type": "stream",
     "text": [
      "\n",
      "5      10      -2608.73  -303  -586.836  692.419\n"
     ]
    },
    {
     "name": "stderr",
     "output_type": "stream",
     "text": [
      "\n",
      "Fitness Evaluations:  23%|████▍              | 70/300 [00:01<00:06, 37.58nfev/s]\u001b[A"
     ]
    },
    {
     "name": "stdout",
     "output_type": "stream",
     "text": [
      "\n",
      "6      10      -2608.73  3971.65  -166.547  1553.6\n"
     ]
    },
    {
     "name": "stderr",
     "output_type": "stream",
     "text": [
      "\n",
      "Fitness Evaluations:  27%|█████              | 80/300 [00:01<00:05, 38.00nfev/s]\u001b[A"
     ]
    },
    {
     "name": "stdout",
     "output_type": "stream",
     "text": [
      "\n",
      "7      10      -2608.73  -303  -847.558  768.489\n"
     ]
    },
    {
     "name": "stderr",
     "output_type": "stream",
     "text": [
      "\n",
      "Fitness Evaluations:  30%|█████▋             | 90/300 [00:02<00:05, 38.45nfev/s]\u001b[A"
     ]
    },
    {
     "name": "stdout",
     "output_type": "stream",
     "text": [
      "\n",
      "8      10      -2608.73  -303  -661.897  739.997\n"
     ]
    },
    {
     "name": "stderr",
     "output_type": "stream",
     "text": [
      "\n",
      "Fitness Evaluations:  33%|██████            | 100/300 [00:02<00:05, 38.22nfev/s]\u001b[A"
     ]
    },
    {
     "name": "stdout",
     "output_type": "stream",
     "text": [
      "\n",
      "9      10      -2608.73  -303  -750.986  718.871\n"
     ]
    },
    {
     "name": "stderr",
     "output_type": "stream",
     "text": [
      "\n",
      "Fitness Evaluations:  37%|██████▌           | 110/300 [00:02<00:04, 38.23nfev/s]\u001b[A"
     ]
    },
    {
     "name": "stdout",
     "output_type": "stream",
     "text": [
      "\n",
      "10     10      -2608.73  228.873  -710.859  935.845\n"
     ]
    },
    {
     "name": "stderr",
     "output_type": "stream",
     "text": [
      "\n",
      "Fitness Evaluations:  40%|███████▏          | 120/300 [00:02<00:04, 37.48nfev/s]\u001b[A"
     ]
    },
    {
     "name": "stdout",
     "output_type": "stream",
     "text": [
      "\n",
      "11     10      -3722.48  -190.513  -1278.33  1103.8\n"
     ]
    },
    {
     "name": "stderr",
     "output_type": "stream",
     "text": [
      "\n",
      "Fitness Evaluations:  43%|███████▊          | 130/300 [00:03<00:04, 36.96nfev/s]\u001b[A"
     ]
    },
    {
     "name": "stdout",
     "output_type": "stream",
     "text": [
      "\n",
      "12     10      -3722.48  75.9531  -713.326  1039.67\n"
     ]
    },
    {
     "name": "stderr",
     "output_type": "stream",
     "text": [
      "\n",
      "Fitness Evaluations:  47%|████████▍         | 140/300 [00:03<00:04, 34.26nfev/s]\u001b[A"
     ]
    },
    {
     "name": "stdout",
     "output_type": "stream",
     "text": [
      "\n",
      "13     10      -4004.07  578.664  -1495.19  1592.26\n"
     ]
    },
    {
     "name": "stderr",
     "output_type": "stream",
     "text": [
      "\n",
      "Fitness Evaluations:  50%|█████████         | 150/300 [00:03<00:04, 34.68nfev/s]\u001b[A"
     ]
    },
    {
     "name": "stdout",
     "output_type": "stream",
     "text": [
      "\n",
      "14     10      -4004.07  110.044  -1277.32  1590.87\n"
     ]
    },
    {
     "name": "stderr",
     "output_type": "stream",
     "text": [
      "\n",
      "Fitness Evaluations:  53%|█████████▌        | 160/300 [00:04<00:04, 34.36nfev/s]\u001b[A"
     ]
    },
    {
     "name": "stdout",
     "output_type": "stream",
     "text": [
      "\n",
      "15     10      -4004.07  604.115  -1012.81  1559.24\n"
     ]
    },
    {
     "name": "stderr",
     "output_type": "stream",
     "text": [
      "\n",
      "Fitness Evaluations:  57%|██████████▏       | 170/300 [00:04<00:03, 34.57nfev/s]\u001b[A"
     ]
    },
    {
     "name": "stdout",
     "output_type": "stream",
     "text": [
      "\n",
      "16     10      -4004.07  1620.77  -965.715  1620.37\n"
     ]
    },
    {
     "name": "stderr",
     "output_type": "stream",
     "text": [
      "\n",
      "Fitness Evaluations:  60%|██████████▊       | 180/300 [00:04<00:03, 34.50nfev/s]\u001b[A"
     ]
    },
    {
     "name": "stdout",
     "output_type": "stream",
     "text": [
      "\n",
      "17     10      -4004.07  26.6738  -1515.26  1404.98\n"
     ]
    },
    {
     "name": "stderr",
     "output_type": "stream",
     "text": [
      "\n",
      "Fitness Evaluations:  63%|███████████▍      | 190/300 [00:04<00:03, 34.24nfev/s]\u001b[A"
     ]
    },
    {
     "name": "stdout",
     "output_type": "stream",
     "text": [
      "\n",
      "18     10      -4004.07  686.914  -745.316  1281.82\n"
     ]
    },
    {
     "name": "stderr",
     "output_type": "stream",
     "text": [
      "\n",
      "Fitness Evaluations:  67%|████████████      | 200/300 [00:05<00:03, 31.94nfev/s]\u001b[A"
     ]
    },
    {
     "name": "stdout",
     "output_type": "stream",
     "text": [
      "\n",
      "19     10      -4004.07  170.455  -1634.46  1478.14\n"
     ]
    },
    {
     "name": "stderr",
     "output_type": "stream",
     "text": [
      "\n",
      "Fitness Evaluations:  70%|████████████▌     | 210/300 [00:05<00:02, 32.83nfev/s]\u001b[A"
     ]
    },
    {
     "name": "stdout",
     "output_type": "stream",
     "text": [
      "\n",
      "20     10      -4004.07  154.166  -1123.01  1442.91\n"
     ]
    },
    {
     "name": "stderr",
     "output_type": "stream",
     "text": [
      "\n",
      "Fitness Evaluations:  73%|█████████████▏    | 220/300 [00:05<00:02, 34.46nfev/s]\u001b[A"
     ]
    },
    {
     "name": "stdout",
     "output_type": "stream",
     "text": [
      "\n",
      "21     10      -4004.07  -303  -695.2  1104.92\n"
     ]
    },
    {
     "name": "stderr",
     "output_type": "stream",
     "text": [
      "\n",
      "Fitness Evaluations:  77%|█████████████▊    | 230/300 [00:06<00:02, 34.76nfev/s]\u001b[A"
     ]
    },
    {
     "name": "stdout",
     "output_type": "stream",
     "text": [
      "\n",
      "22     10      -4274.79  241.403  -1916.71  1756.22\n"
     ]
    },
    {
     "name": "stderr",
     "output_type": "stream",
     "text": [
      "\n",
      "Fitness Evaluations:  80%|██████████████▍   | 240/300 [00:06<00:01, 35.00nfev/s]\u001b[A"
     ]
    },
    {
     "name": "stdout",
     "output_type": "stream",
     "text": [
      "\n",
      "23     10      -4274.79  -303  -1835.16  1452.59\n"
     ]
    },
    {
     "name": "stderr",
     "output_type": "stream",
     "text": [
      "\n",
      "Fitness Evaluations:  83%|███████████████   | 250/300 [00:06<00:01, 35.10nfev/s]\u001b[A"
     ]
    },
    {
     "name": "stdout",
     "output_type": "stream",
     "text": [
      "\n",
      "24     10      -4274.79  199.077  -802.641  1336.94\n"
     ]
    },
    {
     "name": "stderr",
     "output_type": "stream",
     "text": [
      "\n",
      "Fitness Evaluations:  87%|███████████████▌  | 260/300 [00:07<00:01, 32.97nfev/s]\u001b[A"
     ]
    },
    {
     "name": "stdout",
     "output_type": "stream",
     "text": [
      "\n",
      "25     10      -4274.79  331.187  -753.011  1317.4\n"
     ]
    },
    {
     "name": "stderr",
     "output_type": "stream",
     "text": [
      "\n",
      "Fitness Evaluations:  90%|████████████████▏ | 270/300 [00:07<00:00, 34.53nfev/s]\u001b[A"
     ]
    },
    {
     "name": "stdout",
     "output_type": "stream",
     "text": [
      "\n",
      "26     10      -4274.79  -303  -700.179  1191.54\n"
     ]
    },
    {
     "name": "stderr",
     "output_type": "stream",
     "text": [
      "\n",
      "Fitness Evaluations:  93%|████████████████▊ | 280/300 [00:07<00:00, 34.68nfev/s]\u001b[A"
     ]
    },
    {
     "name": "stdout",
     "output_type": "stream",
     "text": [
      "\n",
      "27     10      -4274.79  225.387  -1657.42  1750.01\n"
     ]
    },
    {
     "name": "stderr",
     "output_type": "stream",
     "text": [
      "\n",
      "Fitness Evaluations:  97%|█████████████████▍| 290/300 [00:07<00:00, 34.61nfev/s]\u001b[A"
     ]
    },
    {
     "name": "stdout",
     "output_type": "stream",
     "text": [
      "\n",
      "28     10      -4274.79  869.218  -1096.68  1476.6\n"
     ]
    },
    {
     "name": "stderr",
     "output_type": "stream",
     "text": [
      "\n",
      "Fitness Evaluations: 100%|██████████████████| 300/300 [00:08<00:00, 36.57nfev/s]\u001b[A"
     ]
    },
    {
     "name": "stdout",
     "output_type": "stream",
     "text": [
      "\n",
      "29     10      -4274.79  57.1514  -1273.3  1259.1\n"
     ]
    },
    {
     "name": "stderr",
     "output_type": "stream",
     "text": [
      "\n"
     ]
    },
    {
     "data": {
      "text/plain": [
       "  fun: -4274.78515625\n",
       "  gen: 30\n",
       "  log: {'gen': [0, 1, 2, 3, 4, 5, 6, 7, 8, 9, 10, 11, 12, 13, 14, 15, 16, 17, 18, 19, 20, 21, 22, 23, 24, 25, 26, 27, 28, 29], 'nfev': [10, 10, 10, 10, 10, 10, 10, 10, 10, 10, 10, 10, 10, 10, 10, 10, 10, 10, 10, 10, 10, 10, 10, 10, 10, 10, 10, 10, 10, 10], 'min': [-2608.7255859375, -2608.7255859375, -2608.7255859375, -2608.7255859375, -2608.7255859375, -2608.7255859375, -2608.7255859375, -2608.7255859375, -2608.7255859375, -2608.7255859375, -2608.7255859375, -3722.4814453125, -3722.4814453125, -4004.0673828125, -4004.0673828125, -4004.0673828125, -4004.0673828125, -4004.0673828125, -4004.0673828125, -4004.0673828125, -4004.0673828125, -4004.0673828125, -4274.78515625, -4274.78515625, -4274.78515625, -4274.78515625, -4274.78515625, -4274.78515625, -4274.78515625, -4274.78515625], 'max': [4151.7294921875, -303.0, -303.0, -303.0, 310.28515625, -303.0, 3971.6455078125, -303.0, -303.0, -303.0, 228.873046875, -190.5126953125, 75.953125, 578.6640625, 110.0439453125, 604.115234375, 1620.76953125, 26.673828125, 686.9140625, 170.455078125, 154.166015625, -303.0, 241.4033203125, -303.0, 199.0771484375, 331.1865234375, -303.0, 225.38671875, 869.2177734375, 57.1513671875], 'mean': [-285.1505859375, -533.57255859375, -533.57255859375, -539.726171875, -603.74189453125, -586.8359375, -166.54736328125, -847.55830078125, -661.89716796875, -750.986328125, -710.85859375, -1278.326171875, -713.32607421875, -1495.19072265625, -1277.31767578125, -1012.8130859375, -965.7154296875, -1515.2572265625, -745.315625, -1634.4552734375, -1123.0056640625, -695.20048828125, -1916.70625, -1835.15908203125, -802.64052734375, -753.0109375, -700.178515625, -1657.41875, -1096.6837890625, -1273.29814453125], 'std': [1927.264873543432, 691.7176757812501, 691.7176757812501, 689.9104556956956, 807.2918174871022, 692.4190087463561, 1553.6006667955724, 768.4890631802829, 739.9971174416008, 718.8708441671068, 935.8446994276756, 1103.8015832414624, 1039.6732982208748, 1592.2622509791597, 1590.8730697723865, 1559.2369547369449, 1620.374812646661, 1404.9777567666094, 1281.819717075677, 1478.1361882245192, 1442.910436237687, 1104.9208533168478, 1756.2153054593387, 1452.5905824077372, 1336.9438814198213, 1317.4003812758815, 1191.5355468750001, 1750.0050687698963, 1476.5998934432637, 1259.0985106132903]}\n",
       " nfev: 300\n",
       "    x: array([2.86483264, 2.89095323, 2.55247819, 2.87883529, 2.88689856,\n",
       "       2.85733917, 2.87427596, 2.86613947, 2.89132671, 2.67431957,\n",
       "       2.87242723, 2.86574058, 2.84089135, 2.90401365, 2.90668945,\n",
       "       2.86935887, 2.90875528, 2.85025664, 2.85960603, 2.90293433,\n",
       "       2.87239675, 2.87196003, 2.52156094, 2.8541194 , 2.89816341,\n",
       "       2.86340671, 2.91012977, 2.85506996, 2.90555693, 2.33703732,\n",
       "       2.85373685, 2.49722916, 2.91017851, 2.84748578, 2.84740705,\n",
       "       2.89388794, 2.88655431, 2.90171068, 2.91190725, 2.90955922,\n",
       "       2.8817158 , 2.87221793, 2.86755505, 2.86778828, 2.49706353,\n",
       "       2.89883982, 2.42790017, 2.89539859, 2.90214238, 2.85612725,\n",
       "       2.90808562, 2.5502216 , 2.60351072, 2.87113131])"
      ]
     },
     "execution_count": 55,
     "metadata": {},
     "output_type": "execute_result"
    }
   ],
   "source": [
    "optimizer = BBBC()\n",
    "\n",
    "res = optimizer.optimize(problem, 10, max_nfev=300, seed=42)\n",
    "res"
   ]
  },
  {
   "cell_type": "markdown",
   "metadata": {},
   "source": [
    "#### Testing the optimal angles found"
   ]
  },
  {
   "cell_type": "code",
   "execution_count": 56,
   "metadata": {},
   "outputs": [
    {
     "name": "stdout",
     "output_type": "stream",
     "text": [
      "Quasi-Distribution of the final state: {0: 0.0001245219317, 1: 1.1046497292e-06, 2: 0.0004479994260626, 3: 8.2635288403e-06, 4: 0.0001983663101675, 5: 1.5255788197e-06, 6: 7.60529677965e-05, 7: 1.5193035341e-06, 8: 0.0006453551099083, 9: 5.4910784271e-06, 10: 0.0009148946526151, 11: 1.67170278207e-05, 12: 3.4600924583e-06, 13: 1.79705866e-08, 14: 0.0002360569105139, 15: 4.4451634649e-06, 16: 3.88006687265e-05, 17: 1.1696176173e-06, 18: 0.0057853710483902, 19: 0.0001073508358703, 20: 0.0145164253072967, 21: 9.94982981534e-05, 22: 0.0033267419075885, 23: 7.66157863261e-05, 24: 1.71014190485e-05, 25: 3.06905782e-08, 26: 1.98868743126e-05, 27: 1.072757084e-07, 28: 0.0024174752648224, 29: 1.51623251243e-05, 30: 0.000428336761862, 31: 1.02363849091e-05, 32: 0.0003379477651551, 33: 6.396634618e-07, 34: 0.0074007808317617, 35: 0.0001378356256247, 36: 0.0419829394343514, 37: 0.000279517208666, 38: 0.0084301864736236, 39: 0.000201583682857, 40: 0.0045868116809129, 41: 4.29659792375e-05, 42: 0.012034289578621, 43: 0.0002151510399966, 44: 0.0015208414715186, 45: 9.3320801926e-06, 46: 0.0031083886096473, 47: 6.23929172275e-05, 48: 5.35421611191e-05, 49: 4.333232106e-07, 50: 9.62133702924e-05, 51: 1.7693588368e-06, 52: 7.3555486103e-06, 53: 7.01623921e-08, 54: 5.51472596473e-05, 55: 9.830028842e-07, 56: 0.0026226973827991, 57: 2.25044914294e-05, 58: 0.004116800693389, 59: 7.50042764999e-05, 60: 4.37628964287e-05, 61: 2.495526462e-07, 62: 0.0009134236281098, 63: 1.73873330197e-05, 64: 0.0022667214760964, 65: 1.33350422507e-05, 66: 0.0003403417841741, 67: 6.541613316e-06, 68: 0.0210261245706988, 69: 0.00013467280592, 70: 0.0033498366396252, 71: 8.59436046165e-05, 72: 0.019230425177749, 73: 0.0001708093041867, 74: 0.0367495043854755, 75: 0.0006639597470865, 76: 0.0016935549409214, 77: 1.01791706758e-05, 78: 0.0094112657767408, 79: 0.0001832620057563, 80: 0.0001564369699969, 81: 7.2994615406e-06, 82: 0.0485056872331824, 83: 0.0008999098626033, 84: 0.1316340897886465, 85: 0.0008981194600448, 86: 0.0293761910964759, 87: 0.0006809074852454, 88: 2.23791568673e-05, 89: 1.0262427603e-06, 90: 0.0011786708032338, 91: 1.52850936464e-05, 92: 0.0193335706157788, 93: 0.0001214365534833, 94: 0.004539207595064, 95: 0.0001052005601791, 96: 3.90248226245e-05, 97: 2.027430859e-07, 98: 3.11004475655e-05, 99: 5.722598821e-07, 100: 0.000660313012655, 101: 4.2705065745e-06, 102: 0.0001148958875787, 103: 2.8700785756e-06, 104: 0.0003458837203732, 105: 2.9882028072e-06, 106: 0.0006785602778942, 107: 1.26630844272e-05, 108: 1.677794921e-07, 109: 7.570522e-10, 110: 0.0001040003663198, 111: 1.9198776455e-06, 112: 3.66445975003e-05, 113: 1.0340371912e-06, 114: 0.0048807594255884, 115: 9.05661881111e-05, 116: 0.0120702003329672, 117: 8.29020432207e-05, 118: 0.0026801988777105, 119: 6.18166031889e-05, 120: 1.46017970706e-05, 121: 2.911758493e-07, 122: 0.0001839423819465, 123: 2.5174848711e-06, 124: 0.0020414979063326, 125: 1.28070574109e-05, 126: 0.0005277976544411, 127: 1.20899031568e-05, 128: 0.0014641074683001, 129: 9.9104036439e-06, 130: 0.0001699426035071, 131: 3.0348097737e-06, 132: 0.0041071378194589, 133: 2.51085829035e-05, 134: 0.0004929626319033, 135: 1.39536996831e-05, 136: 0.0107489410544738, 137: 9.43822809192e-05, 138: 0.0190632677788788, 139: 0.0003454329501983, 140: 0.0005881389242926, 141: 3.4920590047e-06, 142: 0.0048648150145083, 143: 9.39375932453e-05, 144: 0.0001978481489647, 145: 7.4306742912e-06, 146: 0.0432254919254738, 147: 0.0008020021561305, 148: 0.1134367240214107, 149: 0.0007754766546449, 150: 0.0255741325712692, 151: 0.0005912167009398, 152: 2.8432938413e-06, 153: 1.57394505e-07, 154: 0.0005992370112493, 155: 6.7225630726e-06, 156: 0.0175835319257103, 157: 0.0001103759823772, 158: 0.0037086299172951, 159: 8.69177492775e-05, 160: 0.0006112016040873, 161: 1.4915061702e-06, 162: 0.009353417158736, 163: 0.0001742409788564, 164: 0.0574283934842225, 165: 0.0003815142471825, 166: 0.0113897422752576, 167: 0.0002733427798824, 168: 0.0076788855441167, 169: 7.12508826353e-05, 170: 0.019202589611646, 171: 0.0003441448048534, 172: 0.0021126652450625, 173: 1.29609968907e-05, 174: 0.0049182405993519, 175: 9.82418140488e-05, 176: 4.39996885961e-05, 177: 2.115552192e-07, 178: 8.02754998996e-05, 179: 1.5060993627e-06, 180: 0.0008337379056096, 181: 5.5007779962e-06, 182: 4.86691052726e-05, 183: 1.4632639423e-06, 184: 0.0032432551870996, 185: 2.83956906869e-05, 186: 0.00547158886271, 187: 9.83378238955e-05, 188: 0.0003951215563464, 189: 2.3955569847e-06, 190: 0.0015576228802345, 191: 3.05954790977e-05, 192: 0.000344595330752, 193: 2.185958324e-06, 194: 3.4283221e-09, 195: 6.184611e-10, 196: 0.0018549193034295, 197: 1.16748619642e-05, 198: 0.0002645661812248, 199: 7.0362244357e-06, 200: 0.0027511769238998, 201: 2.42895304045e-05, 202: 0.0050550612394675, 203: 9.14590849676e-05, 204: 0.0001935501395724, 205: 1.1570667259e-06, 206: 0.0012938514312212, 207: 2.50912107636e-05, 208: 3.73941877676e-05, 209: 1.4720790827e-06, 210: 0.0088173915392248, 211: 0.0001635844994016, 212: 0.0234229647036164, 213: 0.0001599840954073, 214: 0.0053184561092017, 215: 0.0001229238517173, 216: 7.6118261166e-06, 217: 8.62867e-11, 218: 7.53778896832e-05, 219: 7.411557378e-07, 220: 0.0034168812274953, 221: 2.14702233609e-05, 222: 0.0006663780100266, 223: 1.57579877041e-05, 224: 0.000130317993031, 225: 2.706980067e-07, 226: 0.0025187982292946, 227: 4.68777713692e-05, 228: 0.0147541744342478, 229: 9.81351766092e-05, 230: 0.0029501172329996, 231: 7.06249985744e-05, 232: 0.0017318676797917, 233: 1.60874485559e-05, 234: 0.0044631626533302, 235: 8.02287437791e-05, 236: 0.0004312120242123, 237: 2.6527223023e-06, 238: 0.0010731504720851, 239: 2.13838189233e-05, 240: 3.8644255401e-06, 241: 5.472464e-10, 242: 0.0003038917111638, 243: 5.6542474505e-06, 244: 0.001172217127928, 245: 7.9302969158e-06, 246: 0.0001626031246952, 247: 4.0440745977e-06, 248: 0.0008585278349336, 249: 7.6972553158e-06, 250: 0.0015658394586926, 251: 2.7689900109e-05, 252: 0.0003339624875168, 253: 2.0566960672e-06, 254: 0.0005758582141912, 255: 1.16314955464e-05, 256: 4.54786587713e-05, 257: 3.292284242e-07, 258: 2.27918710067e-05, 259: 4.154657901e-07, 260: 4.38298490282e-05, 261: 2.485244877e-07, 262: 3.0466496982e-06, 263: 1.070253569e-07, 264: 0.0003091045583549, 265: 2.6966601504e-06, 266: 0.0005245068941548, 267: 9.5193223199e-06, 268: 1.24572807891e-05, 269: 7.3249571e-08, 270: 0.0001341254071765, 271: 2.577681788e-06, 272: 7.7499039865e-06, 273: 2.717824622e-07, 274: 0.0015080662565097, 275: 2.79812996491e-05, 276: 0.0039081545917496, 277: 2.67366713987e-05, 278: 0.0008851799093119, 279: 2.04414356692e-05, 280: 6.833306456e-07, 281: 7.58413e-10, 282: 1.53670205716e-05, 283: 1.553763768e-07, 284: 0.0006181024111022, 285: 3.8789934896e-06, 286: 0.0001241884979814, 287: 2.9259595978e-06, 288: 3.51029800323e-05, 289: 7.68018206e-08, 290: 0.0006352596518965, 291: 1.1832881732e-05, 292: 0.0037535007720544, 293: 2.4961942576e-05, 294: 0.0007488772676372, 295: 1.79409622676e-05, 296: 0.0004566204124303, 297: 4.2555250518e-06, 298: 0.0011673928766871, 299: 2.08973573554e-05, 300: 0.0001372294468606, 301: 8.419078976e-07, 302: 0.0003002464648134, 303: 6.0111325765e-06, 304: 3.7430468432e-06, 305: 2.42953628e-08, 306: 4.97136049e-08, 307: 8.190936e-10, 308: 1.18632409087e-05, 309: 7.47007413e-08, 310: 2.00052207e-08, 311: 3.274694e-10, 312: 0.0002226508384587, 313: 1.9301046751e-06, 314: 0.0003625997590601, 315: 6.5601738655e-06, 316: 1.28747374586e-05, 317: 7.68125412e-08, 318: 9.18300546329e-05, 319: 1.7783799912e-06, 320: 8.42079583246e-05, 321: 5.05110677e-07, 322: 7.0843628856e-06, 323: 1.377265215e-07, 324: 0.0006896153465067, 325: 4.4013404713e-06, 326: 0.0001074529261034, 327: 2.7764333795e-06, 328: 0.0007039576122276, 329: 6.2433823331e-06, 330: 0.001332303640466, 331: 2.40790749588e-05, 332: 5.87804648421e-05, 333: 3.528647574e-07, 334: 0.0003411550960593, 335: 6.636519952e-06, 336: 6.5709463498e-06, 337: 2.923449966e-07, 338: 0.0018893471974777, 339: 3.50521386978e-05, 340: 0.0050990491892673, 341: 3.47991246014e-05, 342: 0.0011432110957364, 343: 2.64785696029e-05, 344: 1.103062077e-07, 345: 2.08177274e-08, 346: 3.62841402707e-05, 347: 4.488462126e-07, 348: 0.0007469464623981, 349: 4.6923359978e-06, 350: 0.0001671021046762, 351: 3.8925223525e-06, 352: 5.8179826042e-06, 353: 1.79505474e-08, 354: 5.51049939961e-05, 355: 1.02423552e-06, 356: 0.0003894787699972, 357: 2.5769363673e-06, 358: 7.59095611104e-05, 359: 1.831254934e-06, 360: 6.70064675857e-05, 361: 6.078053876e-07, 362: 0.0001583454960121, 363: 2.8789288459e-06, 364: 7.2038207573e-06, 365: 4.46215368e-08, 366: 3.36620457416e-05, 367: 6.580327339e-07, 368: 3.676830336e-07, 369: 2.0203327e-08, 370: 0.0001505164852812, 371: 2.7943948766e-06, 372: 0.0004076047376773, 373: 2.7903675816e-06, 374: 8.2233307268e-05, 375: 1.9235955602e-06, 376: 1.95042570545e-05, 377: 1.967326939e-07, 378: 5.13123995805e-05, 379: 8.493712917e-07, 380: 7.84822511426e-05, 381: 4.89888648e-07, 382: 4.15731327922e-05, 383: 8.960083389e-07, 384: 0.0001337903471268, 385: 8.724691443e-07, 386: 2.7096264459e-06, 387: 4.57498667e-08, 388: 0.0005618420874128, 389: 3.5006528564e-06, 390: 7.60283381549e-05, 391: 2.0620602606e-06, 392: 0.0010226460010769, 393: 9.0086610013e-06, 394: 0.0018540847586673, 395: 3.35712930029e-05, 396: 6.4265255177e-05, 397: 3.831158314e-07, 398: 0.0004726399235681, 399: 9.1476183412e-06, 400: 1.57560310332e-05, 401: 6.175712385e-07, 402: 0.0036949910810688, 403: 6.85555453422e-05, 404: 0.0097680127751618, 405: 6.67479877324e-05, 406: 0.002196391992343, 407: 5.08067803378e-05, 408: 8.752655e-10, 409: 2.5023459e-08, 410: 6.00567426522e-05, 411: 7.054337495e-07, 412: 0.001496362417908, 413: 9.3943332656e-06, 414: 0.0003244881085198, 415: 7.582360486e-06, 416: 3.56449612982e-05, 417: 9.52341987e-08, 418: 0.0004656345880715, 419: 8.6754311196e-06, 420: 0.0029713941505349, 421: 1.97195151007e-05, 422: 0.0005858569623747, 423: 1.40843304293e-05, 424: 0.0004342840563949, 425: 4.0145509547e-06, 426: 0.0010647908324612, 427: 1.91005771825e-05, 428: 0.0001104538150892, 429: 6.774298171e-07, 430: 0.0002719255194548, 431: 5.4208834067e-06, 432: 1.7105758436e-06, 433: 5.1522366e-09, 434: 1.78864939357e-05, 435: 3.336246742e-07, 436: 0.00010035370593, 437: 6.710673403e-07, 438: 1.07010768592e-05, 439: 2.809829332e-07, 440: 0.0001596854300394, 441: 1.4123016351e-06, 442: 0.0002791696577814, 443: 4.9846641289e-06, 444: 3.38930717657e-05, 445: 2.072654466e-07, 446: 8.86880520944e-05, 447: 1.7639938753e-06, 448: 1.06843816e-08, 449: 1.077846e-10, 450: 5.8911957572e-06, 451: 1.094905333e-07, 452: 2.324415518e-05, 453: 1.567058967e-07, 454: 4.9900994402e-06, 455: 1.169764958e-07, 456: 6.995171371e-07, 457: 7.0261929e-09, 458: 2.6525728125e-06, 459: 4.69434331e-08, 460: 6.438009464e-07, 461: 3.9914266e-09, 462: 6.85165931e-07, 463: 1.41534126e-08, 464: 1.485542385e-07, 465: 2.2647891e-09, 466: 4.9225876219e-06, 467: 9.13057367e-08, 468: 9.6834439015e-06, 469: 6.72138713e-08, 470: 2.8219991886e-06, 471: 6.27483136e-08, 472: 2.4118624896e-06, 473: 1.89714776e-08, 474: 2.728917805e-06, 475: 5.32976328e-08, 476: 1.246513246e-06, 477: 7.8897234e-09, 478: 8.99751171e-08, 479: 1.0455264e-09, 480: 9.3226266839e-06, 481: 1.36972998e-08, 482: 0.0002672438275273, 483: 4.9762442319e-06, 484: 0.0014389880954109, 485: 9.5953679861e-06, 486: 0.0002912363375507, 487: 6.9469876739e-06, 488: 0.0001366129969247, 489: 1.2882585489e-06, 490: 0.0003713538158954, 491: 6.6299118466e-06, 492: 5.0833152375e-05, 493: 3.120473719e-07, 494: 9.59533988849e-05, 495: 1.9320165921e-06, 496: 2.2031715376e-06, 497: 2.09749246e-08, 498: 1.19997019842e-05, 499: 2.216286726e-07, 500: 9.7543291334e-06, 501: 7.08121468e-08, 502: 6.8853912818e-06, 503: 1.392497321e-07, 504: 8.97153464034e-05, 505: 7.619827102e-07, 506: 0.0001359627055893, 507: 2.4957664407e-06, 508: 2.09013175e-08, 509: 4.78976e-11, 510: 2.58616975411e-05, 511: 4.819182819e-07}\n"
     ]
    }
   ],
   "source": [
    "if len(ansatz.clbits) > 0:\n",
    "    ansatz.remove_final_measurements()\n",
    "ansatz.measure_all()\n",
    "sampler = Sampler()\n",
    "final_state = sampler.run(ansatz, res.x).result().quasi_dists[0]\n",
    "print('Quasi-Distribution of the final state:', final_state)"
   ]
  },
  {
   "cell_type": "code",
   "execution_count": 57,
   "metadata": {},
   "outputs": [
    {
     "name": "stdout",
     "output_type": "stream",
     "text": [
      "TSP energy value: 3306.21484375\n",
      "Optimal QUBO bitstring:  [0 0 1 0 1 0 1 0 0]\n",
      "Feasible TSP solution: True\n",
      "Optimal TSP solution: [2, 1, 0]\n",
      "Optimal TSP value: 202.0\n"
     ]
    }
   ],
   "source": [
    "x = tsp.sample_most_likely(final_state)\n",
    "print(\"TSP energy value:\", res.fun + offset)\n",
    "print(\"Optimal QUBO bitstring: \", x)\n",
    "print(\"Feasible TSP solution:\", tsp_qubo.is_feasible(x))\n",
    "z = tsp.interpret(x)\n",
    "print(\"Optimal TSP solution:\", z)\n",
    "print(\"Optimal TSP value:\", tsp.tsp_value(z, adj_matrix))"
   ]
  },
  {
   "cell_type": "markdown",
   "metadata": {},
   "source": [
    "#### Comparing with the optimal solution computed classically"
   ]
  },
  {
   "cell_type": "code",
   "execution_count": 58,
   "metadata": {},
   "outputs": [
    {
     "name": "stdout",
     "output_type": "stream",
     "text": [
      "Reference TSP energy value: 202.0\n",
      "Reference optimal QUBO bitstring:  [0. 0. 1. 0. 1. 0. 1. 0. 0.]\n",
      "Feasible TPS solution: True\n",
      "Reference optimal TSP solution: [2, 1, 0]\n",
      "Reference optimal TSP objective value: 202.0\n"
     ]
    }
   ],
   "source": [
    "# Making the Hamiltonian in its full form and getting the lowest eigenvalue and eigenvector\n",
    "numpy_solver = NumPyMinimumEigensolver()\n",
    "result = numpy_solver.compute_minimum_eigenvalue(hamiltonian)\n",
    "\n",
    "print(\"Reference TSP energy value:\", result.eigenvalue.real + offset)\n",
    "x_classic = tsp.sample_most_likely(result.eigenstate)\n",
    "print(\"Reference optimal QUBO bitstring: \", x_classic)\n",
    "print(\"Feasible TPS solution:\", tsp_qubo.is_feasible(x_classic))\n",
    "z_classic = tsp.interpret(x_classic)\n",
    "print(\"Reference optimal TSP solution:\", z_classic)\n",
    "print(\"Reference optimal TSP objective value:\", tsp.tsp_value(z_classic, adj_matrix))"
   ]
  },
  {
   "cell_type": "markdown",
   "metadata": {},
   "source": [
    "## 4) VQE trained by an evolutionary algorithm to solve a quantum chemistry problem"
   ]
  },
  {
   "cell_type": "markdown",
   "metadata": {},
   "source": [
    "#### Importing modules"
   ]
  },
  {
   "cell_type": "code",
   "execution_count": 32,
   "metadata": {},
   "outputs": [],
   "source": [
    "import networkx as nx\n",
    "import numpy as np\n",
    "import matplotlib.pyplot as plt\n",
    "from qiskit.quantum_info import SparsePauliOp\n",
    "from qiskit.circuit.library import TwoLocal\n",
    "from qiskit_aer.primitives import Estimator\n",
    "from qiskit_algorithms import NumPyMinimumEigensolver\n",
    "from evovaq.problem import Problem\n",
    "from evovaq.ParticleSwarmOptimization import PSO"
   ]
  },
  {
   "cell_type": "markdown",
   "metadata": {},
   "source": [
    "#### Defining the Hamiltonian of H2 molecule"
   ]
  },
  {
   "cell_type": "code",
   "execution_count": 33,
   "metadata": {},
   "outputs": [],
   "source": [
    "H2_op = SparsePauliOp.from_list(\n",
    "    [\n",
    "        (\"II\", -1.052373245772859),\n",
    "        (\"IZ\", 0.39793742484318045),\n",
    "        (\"ZI\", -0.39793742484318045),\n",
    "        (\"ZZ\", -0.01128010425623538),\n",
    "        (\"XX\", 0.18093119978423156),\n",
    "    ]\n",
    ")"
   ]
  },
  {
   "cell_type": "code",
   "execution_count": 34,
   "metadata": {},
   "outputs": [
    {
     "name": "stdout",
     "output_type": "stream",
     "text": [
      "Number of qubits used to find its ground state:  2\n"
     ]
    }
   ],
   "source": [
    "print(\"Number of qubits used to find its ground state: \", H2_op.num_qubits)"
   ]
  },
  {
   "cell_type": "markdown",
   "metadata": {},
   "source": [
    "#### Choosing an ansatz to sample the ground state (lower energy state) of the Hamiltonian"
   ]
  },
  {
   "cell_type": "code",
   "execution_count": 35,
   "metadata": {},
   "outputs": [],
   "source": [
    "ansatz = TwoLocal(H2_op.num_qubits, rotation_blocks=\"ry\", entanglement_blocks=\"cz\")"
   ]
  },
  {
   "cell_type": "markdown",
   "metadata": {},
   "source": [
    "#### Defining the cost function to be minimized"
   ]
  },
  {
   "cell_type": "code",
   "execution_count": 36,
   "metadata": {},
   "outputs": [],
   "source": [
    "def cost_function(params):\n",
    "    estimator = Estimator(run_options={\"shots\": 1024})\n",
    "    energy = estimator.run(ansatz, H2_op, parameter_values=params).result().values[0]\n",
    "    return energy"
   ]
  },
  {
   "cell_type": "markdown",
   "metadata": {},
   "source": [
    "#### Setting up the problem"
   ]
  },
  {
   "cell_type": "code",
   "execution_count": 37,
   "metadata": {},
   "outputs": [],
   "source": [
    "problem = Problem(ansatz.num_parameters, (0, np.pi), cost_function)"
   ]
  },
  {
   "cell_type": "markdown",
   "metadata": {},
   "source": [
    "#### Selecting an evolutionary algirthm to train the VQE circuit"
   ]
  },
  {
   "cell_type": "code",
   "execution_count": 38,
   "metadata": {},
   "outputs": [
    {
     "name": "stderr",
     "output_type": "stream",
     "text": [
      "\n",
      "Fitness Evaluations:   0%|                            | 0/300 [00:00<?, ?nfev/s]\u001b[A\n",
      "Fitness Evaluations:  10%|█▊                | 30/300 [00:00<00:01, 192.55nfev/s]\u001b[A"
     ]
    },
    {
     "name": "stdout",
     "output_type": "stream",
     "text": [
      "********** Execution #1 **********\n",
      "gen    nfev    min       max        mean       std\n",
      "-----  ------  --------  ---------  ---------  --------\n",
      "0      10      -1.26515  -0.419917  -0.918457  0.239048\n",
      "\n",
      "1      10      -1.70041  -0.655954  -1.26009  0.246861\n",
      "\n",
      "2      10      -1.65321  -0.933897  -1.26505  0.250927\n"
     ]
    },
    {
     "name": "stderr",
     "output_type": "stream",
     "text": [
      "\n",
      "Fitness Evaluations:  17%|███               | 50/300 [00:00<00:01, 152.45nfev/s]\u001b[A"
     ]
    },
    {
     "name": "stdout",
     "output_type": "stream",
     "text": [
      "\n",
      "3      10      -1.73888  -0.574193  -1.2378  0.438261\n",
      "\n",
      "4      10      -1.81847  -0.668717  -1.35913  0.333284\n",
      "\n",
      "5      10      -1.81799  -1.1655  -1.58798  0.188494\n"
     ]
    },
    {
     "name": "stderr",
     "output_type": "stream",
     "text": [
      "\n",
      "Fitness Evaluations:  23%|████▏             | 70/300 [00:00<00:01, 140.31nfev/s]\u001b[A\n",
      "Fitness Evaluations:  30%|█████▍            | 90/300 [00:00<00:01, 135.22nfev/s]\u001b[A"
     ]
    },
    {
     "name": "stdout",
     "output_type": "stream",
     "text": [
      "\n",
      "6      10      -1.8084  -1.18111  -1.60394  0.212113\n",
      "\n",
      "7      10      -1.8637  -0.992408  -1.58161  0.237718\n",
      "\n",
      "8      10      -1.83129  -1.17898  -1.66061  0.175368\n"
     ]
    },
    {
     "name": "stderr",
     "output_type": "stream",
     "text": [
      "\n",
      "Fitness Evaluations:  37%|██████▏          | 110/300 [00:00<00:01, 131.34nfev/s]\u001b[A"
     ]
    },
    {
     "name": "stdout",
     "output_type": "stream",
     "text": [
      "\n",
      "9      10      -1.84061  -1.45053  -1.69933  0.112748\n",
      "\n",
      "10     10      -1.84776  -1.55837  -1.72471  0.0849611\n",
      "\n",
      "11     10      -1.82534  -1.64893  -1.74597  0.0634854\n"
     ]
    },
    {
     "name": "stderr",
     "output_type": "stream",
     "text": [
      "\n",
      "Fitness Evaluations:  43%|███████▎         | 130/300 [00:00<00:01, 130.01nfev/s]\u001b[A\n",
      "Fitness Evaluations:  50%|████████▌        | 150/300 [00:01<00:01, 129.03nfev/s]\u001b[A"
     ]
    },
    {
     "name": "stdout",
     "output_type": "stream",
     "text": [
      "\n",
      "12     10      -1.84216  -1.44081  -1.68295  0.127171\n",
      "\n",
      "13     10      -1.84394  -1.73173  -1.79875  0.035197\n",
      "\n",
      "14     10      -1.8477  -1.682  -1.7842  0.0500248\n"
     ]
    },
    {
     "name": "stderr",
     "output_type": "stream",
     "text": [
      "\n",
      "Fitness Evaluations:  57%|█████████▋       | 170/300 [00:01<00:01, 127.81nfev/s]\u001b[A"
     ]
    },
    {
     "name": "stdout",
     "output_type": "stream",
     "text": [
      "\n",
      "15     10      -1.84944  -1.52741  -1.74218  0.108952\n",
      "\n",
      "16     10      -1.85781  -1.58145  -1.79801  0.077915\n",
      "\n",
      "17     10      -1.84254  -1.58905  -1.78385  0.0721029\n"
     ]
    },
    {
     "name": "stderr",
     "output_type": "stream",
     "text": [
      "\n",
      "Fitness Evaluations:  63%|██████████▊      | 190/300 [00:01<00:00, 127.93nfev/s]\u001b[A\n",
      "Fitness Evaluations:  70%|███████████▉     | 210/300 [00:01<00:00, 128.11nfev/s]\u001b[A"
     ]
    },
    {
     "name": "stdout",
     "output_type": "stream",
     "text": [
      "\n",
      "18     10      -1.85072  -1.59577  -1.75671  0.0838872\n",
      "\n",
      "19     10      -1.84709  -1.59847  -1.77696  0.075832\n",
      "\n",
      "20     10      -1.85308  -1.78162  -1.82875  0.0246503\n"
     ]
    },
    {
     "name": "stderr",
     "output_type": "stream",
     "text": [
      "\n",
      "Fitness Evaluations:  77%|█████████████    | 230/300 [00:01<00:00, 127.05nfev/s]\u001b[A"
     ]
    },
    {
     "name": "stdout",
     "output_type": "stream",
     "text": [
      "\n",
      "21     10      -1.84521  -1.44089  -1.76119  0.117364\n",
      "\n",
      "22     10      -1.8435  -1.60903  -1.80512  0.0685332\n",
      "\n",
      "23     10      -1.84876  -1.70671  -1.80823  0.0471579\n"
     ]
    },
    {
     "name": "stderr",
     "output_type": "stream",
     "text": [
      "\n",
      "Fitness Evaluations:  83%|██████████████▏  | 250/300 [00:01<00:00, 126.49nfev/s]\u001b[A\n",
      "Fitness Evaluations:  90%|███████████████▎ | 270/300 [00:02<00:00, 126.61nfev/s]\u001b[A"
     ]
    },
    {
     "name": "stdout",
     "output_type": "stream",
     "text": [
      "\n",
      "24     10      -1.83954  -1.77582  -1.81116  0.0192739\n",
      "\n",
      "25     10      -1.85223  -1.54415  -1.76123  0.0993694\n",
      "\n",
      "26     10      -1.84155  -1.31463  -1.7504  0.148413\n"
     ]
    },
    {
     "name": "stderr",
     "output_type": "stream",
     "text": [
      "\n",
      "Fitness Evaluations: 100%|█████████████████| 300/300 [00:02<00:00, 130.32nfev/s]\u001b[A"
     ]
    },
    {
     "name": "stdout",
     "output_type": "stream",
     "text": [
      "\n",
      "27     10      -1.84399  -1.63094  -1.79175  0.0623758\n",
      "\n",
      "28     10      -1.84792  -1.63081  -1.78267  0.0713218\n",
      "\n",
      "29     10      -1.84082  -1.65088  -1.78046  0.058722\n"
     ]
    },
    {
     "name": "stderr",
     "output_type": "stream",
     "text": [
      "\n"
     ]
    },
    {
     "data": {
      "text/plain": [
       "  fun: -1.863696243781153\n",
       "  gen: 30\n",
       "  log: {'gen': [0, 1, 2, 3, 4, 5, 6, 7, 8, 9, 10, 11, 12, 13, 14, 15, 16, 17, 18, 19, 20, 21, 22, 23, 24, 25, 26, 27, 28, 29], 'nfev': [10, 10, 10, 10, 10, 10, 10, 10, 10, 10, 10, 10, 10, 10, 10, 10, 10, 10, 10, 10, 10, 10, 10, 10, 10, 10, 10, 10, 10, 10], 'min': [-1.2651544308147846, -1.7004133435676536, -1.6532146640394687, -1.7388821780214152, -1.8184703358003087, -1.8179913840609716, -1.8084042307332713, -1.863696243781153, -1.8312933416662571, -1.8406129859997495, -1.8477608854516678, -1.8253430173492622, -1.8421573852002853, -1.843942227366277, -1.847703789573855, -1.8494410211032761, -1.8578109277441544, -1.8425396242247922, -1.8507245498909404, -1.8470938822349263, -1.8530826106161196, -1.8452070032922994, -1.8435029128132996, -1.8487595483003847, -1.839543255263059, -1.8522261600050713, -1.8415466405684704, -1.843994999269912, -1.8479184249177143, -1.8408211455570136], 'max': [-0.419916728190466, -0.6559544939059873, -0.9338967529845237, -0.5741925559867651, -0.6687174147888192, -1.1654982234108842, -1.1811080631137423, -0.9924084688563399, -1.1789813707490033, -1.4505331573140543, -1.558370098377281, -1.6489259758963162, -1.4408143177762398, -1.731726472849677, -1.6819964195026273, -1.527406513468604, -1.581445321660445, -1.5890527658412557, -1.5957651265684, -1.5984698288946433, -1.781616628718159, -1.4408858271278246, -1.609031481814592, -1.7067113902911746, -1.7758201894555274, -1.5441549087150388, -1.3146330219217428, -1.6309392819079511, -1.6308134019219382, -1.6508784926622841], 'mean': [-0.9184567283754046, -1.2600945289687382, -1.2650500173642756, -1.2378019353681151, -1.3591257750877703, -1.5879839561267393, -1.603938479798833, -1.581612673606267, -1.6606130022815073, -1.6993343164317782, -1.7247115558882296, -1.7459725657211655, -1.6829523262640582, -1.7987451957717535, -1.7842031115106594, -1.7421839336188287, -1.7980107779954124, -1.7838462913024533, -1.756714969195248, -1.776955287450922, -1.828752036154387, -1.7611938736210977, -1.8051158870161381, -1.8082251598574133, -1.8111564909949869, -1.7612284640979592, -1.7503951644009423, -1.7917487088357718, -1.7826738561653879, -1.7804604007000706], 'std': [0.23904779640947013, 0.24686132109998588, 0.25092653094487544, 0.4382609925776098, 0.3332836932043814, 0.18849395689355827, 0.21211310081865575, 0.2377182728658732, 0.17536792910663795, 0.11274829151253345, 0.08496107928896769, 0.06348538570022026, 0.1271712551398398, 0.0351969522749483, 0.05002483907889151, 0.10895170276229726, 0.07791496112846186, 0.0721029309623497, 0.08388720443367256, 0.07583195214076591, 0.02465028738439817, 0.11736407929470193, 0.06853321214734101, 0.04715792612794455, 0.019273947455501202, 0.09936935577919645, 0.14841293701293196, 0.06237580243648544, 0.07132184781985113, 0.058722035412216156]}\n",
       " nfev: 300\n",
       "    x: array([3.14159265, 0.37490817, 3.14159265, 3.12005242, 3.14159265,\n",
       "       0.        , 0.18416738, 2.55371092])"
      ]
     },
     "execution_count": 38,
     "metadata": {},
     "output_type": "execute_result"
    }
   ],
   "source": [
    "optimizer = PSO()\n",
    "\n",
    "res = optimizer.optimize(problem, 10, max_nfev=300, seed=42)\n",
    "res"
   ]
  },
  {
   "cell_type": "markdown",
   "metadata": {},
   "source": [
    "#### Testing the optimal solution found"
   ]
  },
  {
   "cell_type": "code",
   "execution_count": 39,
   "metadata": {},
   "outputs": [
    {
     "name": "stdout",
     "output_type": "stream",
     "text": [
      "Optimal energy value: -1.86370\n"
     ]
    }
   ],
   "source": [
    "print(f\"Optimal energy value: {res.fun:.5f}\")"
   ]
  },
  {
   "cell_type": "markdown",
   "metadata": {},
   "source": [
    "#### Comparing with the optimal solution computed classically"
   ]
  },
  {
   "cell_type": "code",
   "execution_count": 40,
   "metadata": {},
   "outputs": [
    {
     "name": "stdout",
     "output_type": "stream",
     "text": [
      "Reference energy value: -1.85728\n",
      "Delta from reference energy value is -0.00642\n"
     ]
    }
   ],
   "source": [
    "numpy_solver = NumPyMinimumEigensolver()\n",
    "result = numpy_solver.compute_minimum_eigenvalue(operator=H2_op)\n",
    "ref_value = result.eigenvalue.real\n",
    "print(f\"Reference energy value: {ref_value:.5f}\")\n",
    "print(f\"Delta from reference energy value is {(res.fun - ref_value):.5f}\")"
   ]
  }
 ],
 "metadata": {
  "kernelspec": {
   "display_name": "Python 3 (ipykernel)",
   "language": "python",
   "name": "python3"
  },
  "language_info": {
   "codemirror_mode": {
    "name": "ipython",
    "version": 3
   },
   "file_extension": ".py",
   "mimetype": "text/x-python",
   "name": "python",
   "nbconvert_exporter": "python",
   "pygments_lexer": "ipython3",
   "version": "3.9.12"
  }
 },
 "nbformat": 4,
 "nbformat_minor": 4
}
